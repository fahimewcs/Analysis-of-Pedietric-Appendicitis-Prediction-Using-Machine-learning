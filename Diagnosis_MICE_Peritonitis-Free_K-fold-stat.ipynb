{
 "cells": [
  {
   "cell_type": "code",
   "execution_count": 1,
   "id": "ce392be6",
   "metadata": {},
   "outputs": [],
   "source": [
    "import pandas as pd\n",
    "import numpy as np"
   ]
  },
  {
   "cell_type": "code",
   "execution_count": 2,
   "id": "4f52e9dd",
   "metadata": {},
   "outputs": [
    {
     "data": {
      "text/html": [
       "<div>\n",
       "<style scoped>\n",
       "    .dataframe tbody tr th:only-of-type {\n",
       "        vertical-align: middle;\n",
       "    }\n",
       "\n",
       "    .dataframe tbody tr th {\n",
       "        vertical-align: top;\n",
       "    }\n",
       "\n",
       "    .dataframe thead th {\n",
       "        text-align: right;\n",
       "    }\n",
       "</style>\n",
       "<table border=\"1\" class=\"dataframe\">\n",
       "  <thead>\n",
       "    <tr style=\"text-align: right;\">\n",
       "      <th></th>\n",
       "      <th>Age</th>\n",
       "      <th>BMI</th>\n",
       "      <th>Sex</th>\n",
       "      <th>Height</th>\n",
       "      <th>Weight</th>\n",
       "      <th>AlvaradoScore</th>\n",
       "      <th>PediatricAppendicitisScore</th>\n",
       "      <th>AppendixOnSono</th>\n",
       "      <th>AppendixDiameter</th>\n",
       "      <th>MigratoryPain</th>\n",
       "      <th>...</th>\n",
       "      <th>PathLymphNodes</th>\n",
       "      <th>MesentricLymphadenitis</th>\n",
       "      <th>BowelWallThick</th>\n",
       "      <th>Ileus</th>\n",
       "      <th>FecalImpaction</th>\n",
       "      <th>Meteorism</th>\n",
       "      <th>Enteritis</th>\n",
       "      <th>DiagnosisByCriteria</th>\n",
       "      <th>TreatmentGroupBinar</th>\n",
       "      <th>AppendicitisComplications</th>\n",
       "    </tr>\n",
       "  </thead>\n",
       "  <tbody>\n",
       "    <tr>\n",
       "      <th>0</th>\n",
       "      <td>12.531143</td>\n",
       "      <td>16.494601</td>\n",
       "      <td>male</td>\n",
       "      <td>159.0</td>\n",
       "      <td>41.7</td>\n",
       "      <td>7</td>\n",
       "      <td>5</td>\n",
       "      <td>yes</td>\n",
       "      <td>5.5</td>\n",
       "      <td>no</td>\n",
       "      <td>...</td>\n",
       "      <td>yes</td>\n",
       "      <td>yes</td>\n",
       "      <td>yes</td>\n",
       "      <td>no</td>\n",
       "      <td>yes</td>\n",
       "      <td>no</td>\n",
       "      <td>no</td>\n",
       "      <td>noAppendicitis</td>\n",
       "      <td>conservative</td>\n",
       "      <td>no</td>\n",
       "    </tr>\n",
       "    <tr>\n",
       "      <th>1</th>\n",
       "      <td>12.410678</td>\n",
       "      <td>12.595222</td>\n",
       "      <td>female</td>\n",
       "      <td>152.0</td>\n",
       "      <td>29.1</td>\n",
       "      <td>8</td>\n",
       "      <td>8</td>\n",
       "      <td>yes</td>\n",
       "      <td>NaN</td>\n",
       "      <td>no</td>\n",
       "      <td>...</td>\n",
       "      <td>NaN</td>\n",
       "      <td>NaN</td>\n",
       "      <td>NaN</td>\n",
       "      <td>NaN</td>\n",
       "      <td>NaN</td>\n",
       "      <td>NaN</td>\n",
       "      <td>NaN</td>\n",
       "      <td>appendicitis</td>\n",
       "      <td>surgical</td>\n",
       "      <td>no</td>\n",
       "    </tr>\n",
       "    <tr>\n",
       "      <th>2</th>\n",
       "      <td>10.537988</td>\n",
       "      <td>15.991247</td>\n",
       "      <td>male</td>\n",
       "      <td>133.5</td>\n",
       "      <td>28.5</td>\n",
       "      <td>3</td>\n",
       "      <td>3</td>\n",
       "      <td>yes</td>\n",
       "      <td>6.0</td>\n",
       "      <td>no</td>\n",
       "      <td>...</td>\n",
       "      <td>no</td>\n",
       "      <td>NaN</td>\n",
       "      <td>no</td>\n",
       "      <td>no</td>\n",
       "      <td>NaN</td>\n",
       "      <td>NaN</td>\n",
       "      <td>no</td>\n",
       "      <td>noAppendicitis</td>\n",
       "      <td>conservative</td>\n",
       "      <td>no</td>\n",
       "    </tr>\n",
       "    <tr>\n",
       "      <th>3</th>\n",
       "      <td>10.425736</td>\n",
       "      <td>16.185025</td>\n",
       "      <td>male</td>\n",
       "      <td>146.0</td>\n",
       "      <td>34.5</td>\n",
       "      <td>4</td>\n",
       "      <td>3</td>\n",
       "      <td>yes</td>\n",
       "      <td>6.0</td>\n",
       "      <td>no</td>\n",
       "      <td>...</td>\n",
       "      <td>no</td>\n",
       "      <td>NaN</td>\n",
       "      <td>no</td>\n",
       "      <td>no</td>\n",
       "      <td>no</td>\n",
       "      <td>no</td>\n",
       "      <td>no</td>\n",
       "      <td>appendicitis</td>\n",
       "      <td>conservative</td>\n",
       "      <td>no</td>\n",
       "    </tr>\n",
       "    <tr>\n",
       "      <th>4</th>\n",
       "      <td>13.270363</td>\n",
       "      <td>20.449137</td>\n",
       "      <td>female</td>\n",
       "      <td>164.0</td>\n",
       "      <td>55.0</td>\n",
       "      <td>2</td>\n",
       "      <td>2</td>\n",
       "      <td>yes</td>\n",
       "      <td>6.5</td>\n",
       "      <td>no</td>\n",
       "      <td>...</td>\n",
       "      <td>no</td>\n",
       "      <td>no</td>\n",
       "      <td>no</td>\n",
       "      <td>no</td>\n",
       "      <td>no</td>\n",
       "      <td>yes</td>\n",
       "      <td>no</td>\n",
       "      <td>noAppendicitis</td>\n",
       "      <td>conservative</td>\n",
       "      <td>no</td>\n",
       "    </tr>\n",
       "    <tr>\n",
       "      <th>...</th>\n",
       "      <td>...</td>\n",
       "      <td>...</td>\n",
       "      <td>...</td>\n",
       "      <td>...</td>\n",
       "      <td>...</td>\n",
       "      <td>...</td>\n",
       "      <td>...</td>\n",
       "      <td>...</td>\n",
       "      <td>...</td>\n",
       "      <td>...</td>\n",
       "      <td>...</td>\n",
       "      <td>...</td>\n",
       "      <td>...</td>\n",
       "      <td>...</td>\n",
       "      <td>...</td>\n",
       "      <td>...</td>\n",
       "      <td>...</td>\n",
       "      <td>...</td>\n",
       "      <td>...</td>\n",
       "      <td>...</td>\n",
       "      <td>...</td>\n",
       "    </tr>\n",
       "    <tr>\n",
       "      <th>425</th>\n",
       "      <td>12.147844</td>\n",
       "      <td>22.292563</td>\n",
       "      <td>male</td>\n",
       "      <td>166.5</td>\n",
       "      <td>61.8</td>\n",
       "      <td>5</td>\n",
       "      <td>4</td>\n",
       "      <td>no</td>\n",
       "      <td>NaN</td>\n",
       "      <td>no</td>\n",
       "      <td>...</td>\n",
       "      <td>yes</td>\n",
       "      <td>yes</td>\n",
       "      <td>no</td>\n",
       "      <td>NaN</td>\n",
       "      <td>NaN</td>\n",
       "      <td>NaN</td>\n",
       "      <td>NaN</td>\n",
       "      <td>noAppendicitis</td>\n",
       "      <td>conservative</td>\n",
       "      <td>no</td>\n",
       "    </tr>\n",
       "    <tr>\n",
       "      <th>426</th>\n",
       "      <td>12.528405</td>\n",
       "      <td>29.316297</td>\n",
       "      <td>male</td>\n",
       "      <td>152.3</td>\n",
       "      <td>68.0</td>\n",
       "      <td>7</td>\n",
       "      <td>7</td>\n",
       "      <td>no</td>\n",
       "      <td>NaN</td>\n",
       "      <td>yes</td>\n",
       "      <td>...</td>\n",
       "      <td>NaN</td>\n",
       "      <td>NaN</td>\n",
       "      <td>NaN</td>\n",
       "      <td>NaN</td>\n",
       "      <td>yes</td>\n",
       "      <td>NaN</td>\n",
       "      <td>NaN</td>\n",
       "      <td>noAppendicitis</td>\n",
       "      <td>conservative</td>\n",
       "      <td>no</td>\n",
       "    </tr>\n",
       "    <tr>\n",
       "      <th>427</th>\n",
       "      <td>12.013689</td>\n",
       "      <td>28.906250</td>\n",
       "      <td>male</td>\n",
       "      <td>160.0</td>\n",
       "      <td>74.0</td>\n",
       "      <td>5</td>\n",
       "      <td>6</td>\n",
       "      <td>no</td>\n",
       "      <td>NaN</td>\n",
       "      <td>yes</td>\n",
       "      <td>...</td>\n",
       "      <td>no</td>\n",
       "      <td>no</td>\n",
       "      <td>NaN</td>\n",
       "      <td>NaN</td>\n",
       "      <td>NaN</td>\n",
       "      <td>yes</td>\n",
       "      <td>NaN</td>\n",
       "      <td>noAppendicitis</td>\n",
       "      <td>conservative</td>\n",
       "      <td>no</td>\n",
       "    </tr>\n",
       "    <tr>\n",
       "      <th>428</th>\n",
       "      <td>7.739904</td>\n",
       "      <td>22.038188</td>\n",
       "      <td>female</td>\n",
       "      <td>120.5</td>\n",
       "      <td>32.0</td>\n",
       "      <td>5</td>\n",
       "      <td>3</td>\n",
       "      <td>no</td>\n",
       "      <td>NaN</td>\n",
       "      <td>no</td>\n",
       "      <td>...</td>\n",
       "      <td>yes</td>\n",
       "      <td>yes</td>\n",
       "      <td>NaN</td>\n",
       "      <td>no</td>\n",
       "      <td>NaN</td>\n",
       "      <td>yes</td>\n",
       "      <td>yes</td>\n",
       "      <td>noAppendicitis</td>\n",
       "      <td>conservative</td>\n",
       "      <td>no</td>\n",
       "    </tr>\n",
       "    <tr>\n",
       "      <th>429</th>\n",
       "      <td>10.157426</td>\n",
       "      <td>21.017920</td>\n",
       "      <td>female</td>\n",
       "      <td>142.2</td>\n",
       "      <td>42.5</td>\n",
       "      <td>9</td>\n",
       "      <td>6</td>\n",
       "      <td>no</td>\n",
       "      <td>NaN</td>\n",
       "      <td>yes</td>\n",
       "      <td>...</td>\n",
       "      <td>NaN</td>\n",
       "      <td>NaN</td>\n",
       "      <td>NaN</td>\n",
       "      <td>NaN</td>\n",
       "      <td>NaN</td>\n",
       "      <td>NaN</td>\n",
       "      <td>NaN</td>\n",
       "      <td>noAppendicitis</td>\n",
       "      <td>conservative</td>\n",
       "      <td>no</td>\n",
       "    </tr>\n",
       "  </tbody>\n",
       "</table>\n",
       "<p>430 rows × 41 columns</p>\n",
       "</div>"
      ],
      "text/plain": [
       "           Age        BMI     Sex  Height  Weight  AlvaradoScore  \\\n",
       "0    12.531143  16.494601    male   159.0    41.7              7   \n",
       "1    12.410678  12.595222  female   152.0    29.1              8   \n",
       "2    10.537988  15.991247    male   133.5    28.5              3   \n",
       "3    10.425736  16.185025    male   146.0    34.5              4   \n",
       "4    13.270363  20.449137  female   164.0    55.0              2   \n",
       "..         ...        ...     ...     ...     ...            ...   \n",
       "425  12.147844  22.292563    male   166.5    61.8              5   \n",
       "426  12.528405  29.316297    male   152.3    68.0              7   \n",
       "427  12.013689  28.906250    male   160.0    74.0              5   \n",
       "428   7.739904  22.038188  female   120.5    32.0              5   \n",
       "429  10.157426  21.017920  female   142.2    42.5              9   \n",
       "\n",
       "     PediatricAppendicitisScore AppendixOnSono  AppendixDiameter  \\\n",
       "0                             5            yes               5.5   \n",
       "1                             8            yes               NaN   \n",
       "2                             3            yes               6.0   \n",
       "3                             3            yes               6.0   \n",
       "4                             2            yes               6.5   \n",
       "..                          ...            ...               ...   \n",
       "425                           4             no               NaN   \n",
       "426                           7             no               NaN   \n",
       "427                           6             no               NaN   \n",
       "428                           3             no               NaN   \n",
       "429                           6             no               NaN   \n",
       "\n",
       "    MigratoryPain  ... PathLymphNodes MesentricLymphadenitis BowelWallThick  \\\n",
       "0              no  ...            yes                    yes            yes   \n",
       "1              no  ...            NaN                    NaN            NaN   \n",
       "2              no  ...             no                    NaN             no   \n",
       "3              no  ...             no                    NaN             no   \n",
       "4              no  ...             no                     no             no   \n",
       "..            ...  ...            ...                    ...            ...   \n",
       "425            no  ...            yes                    yes             no   \n",
       "426           yes  ...            NaN                    NaN            NaN   \n",
       "427           yes  ...             no                     no            NaN   \n",
       "428            no  ...            yes                    yes            NaN   \n",
       "429           yes  ...            NaN                    NaN            NaN   \n",
       "\n",
       "    Ileus FecalImpaction Meteorism  Enteritis  DiagnosisByCriteria  \\\n",
       "0      no            yes        no         no       noAppendicitis   \n",
       "1     NaN            NaN       NaN        NaN         appendicitis   \n",
       "2      no            NaN       NaN         no       noAppendicitis   \n",
       "3      no             no        no         no         appendicitis   \n",
       "4      no             no       yes         no       noAppendicitis   \n",
       "..    ...            ...       ...        ...                  ...   \n",
       "425   NaN            NaN       NaN        NaN       noAppendicitis   \n",
       "426   NaN            yes       NaN        NaN       noAppendicitis   \n",
       "427   NaN            NaN       yes        NaN       noAppendicitis   \n",
       "428    no            NaN       yes        yes       noAppendicitis   \n",
       "429   NaN            NaN       NaN        NaN       noAppendicitis   \n",
       "\n",
       "     TreatmentGroupBinar AppendicitisComplications  \n",
       "0           conservative                        no  \n",
       "1               surgical                        no  \n",
       "2           conservative                        no  \n",
       "3           conservative                        no  \n",
       "4           conservative                        no  \n",
       "..                   ...                       ...  \n",
       "425         conservative                        no  \n",
       "426         conservative                        no  \n",
       "427         conservative                        no  \n",
       "428         conservative                        no  \n",
       "429         conservative                        no  \n",
       "\n",
       "[430 rows x 41 columns]"
      ]
     },
     "execution_count": 2,
     "metadata": {},
     "output_type": "execute_result"
    }
   ],
   "source": [
    "df = pd.read_csv('app_data.csv')\n",
    "df"
   ]
  },
  {
   "cell_type": "code",
   "execution_count": 3,
   "id": "7060edfe",
   "metadata": {},
   "outputs": [
    {
     "name": "stdout",
     "output_type": "stream",
     "text": [
      "<class 'pandas.core.frame.DataFrame'>\n",
      "RangeIndex: 430 entries, 0 to 429\n",
      "Data columns (total 41 columns):\n",
      " #   Column                      Non-Null Count  Dtype  \n",
      "---  ------                      --------------  -----  \n",
      " 0   Age                         428 non-null    float64\n",
      " 1   BMI                         430 non-null    float64\n",
      " 2   Sex                         430 non-null    object \n",
      " 3   Height                      430 non-null    float64\n",
      " 4   Weight                      430 non-null    float64\n",
      " 5   AlvaradoScore               430 non-null    int64  \n",
      " 6   PediatricAppendicitisScore  430 non-null    int64  \n",
      " 7   AppendixOnSono              428 non-null    object \n",
      " 8   AppendixDiameter            266 non-null    float64\n",
      " 9   MigratoryPain               430 non-null    object \n",
      " 10  LowerAbdominalPainRight     429 non-null    object \n",
      " 11  ReboundTenderness           427 non-null    object \n",
      " 12  CoughingPain                429 non-null    object \n",
      " 13  PsoasSign                   393 non-null    object \n",
      " 14  Nausea                      430 non-null    object \n",
      " 15  AppetiteLoss                429 non-null    object \n",
      " 16  BodyTemp                    429 non-null    float64\n",
      " 17  WBCCount                    426 non-null    float64\n",
      " 18  NeutrophilPerc              385 non-null    float64\n",
      " 19  KetonesInUrine              307 non-null    object \n",
      " 20  ErythrocytesInUrine         307 non-null    object \n",
      " 21  WBCInUrine                  307 non-null    object \n",
      " 22  CRPEntry                    424 non-null    float64\n",
      " 23  Dysuria                     411 non-null    object \n",
      " 24  Stool                       424 non-null    object \n",
      " 25  Peritonitis                 430 non-null    object \n",
      " 26  FreeFluids                  413 non-null    object \n",
      " 27  AppendixWallLayers          142 non-null    object \n",
      " 28  Kokarde                     150 non-null    object \n",
      " 29  TissuePerfusion             55 non-null     object \n",
      " 30  SurroundingTissueReaction   180 non-null    object \n",
      " 31  PathLymphNodes              165 non-null    object \n",
      " 32  MesentricLymphadenitis      138 non-null    object \n",
      " 33  BowelWallThick              88 non-null     object \n",
      " 34  Ileus                       69 non-null     object \n",
      " 35  FecalImpaction              74 non-null     object \n",
      " 36  Meteorism                   107 non-null    object \n",
      " 37  Enteritis                   41 non-null     object \n",
      " 38  DiagnosisByCriteria         430 non-null    object \n",
      " 39  TreatmentGroupBinar         430 non-null    object \n",
      " 40  AppendicitisComplications   430 non-null    object \n",
      "dtypes: float64(9), int64(2), object(30)\n",
      "memory usage: 137.9+ KB\n"
     ]
    }
   ],
   "source": [
    "df.info()"
   ]
  },
  {
   "cell_type": "code",
   "execution_count": 4,
   "id": "6a25967f",
   "metadata": {},
   "outputs": [],
   "source": [
    "#column dropping considering y3= AppendicitisComplications\n",
    "df.drop(['AppendicitisComplications','TreatmentGroupBinar'],axis=1,inplace=True)\n",
    "\n",
    "# peritonitis/Abdominal guarding\n",
    "df.drop(['Peritonitis'],axis=1,inplace=True)"
   ]
  },
  {
   "cell_type": "code",
   "execution_count": 5,
   "id": "ec017b85",
   "metadata": {
    "scrolled": true
   },
   "outputs": [],
   "source": [
    "#df.info()"
   ]
  },
  {
   "cell_type": "code",
   "execution_count": 6,
   "id": "0dfba854",
   "metadata": {},
   "outputs": [],
   "source": [
    "df_numerical = df.filter(['Age','BMI','Height','Weight','AlvaradoScore','PediatricAppendicitisScore',\n",
    "                    'AppendixDiameter','BodyTemp','WBCCount','NeutrophilPerc','CRPEntry'],axis=1).copy()"
   ]
  },
  {
   "cell_type": "code",
   "execution_count": 7,
   "id": "d05f47d9",
   "metadata": {},
   "outputs": [],
   "source": [
    "#df_numerical.info()"
   ]
  },
  {
   "cell_type": "code",
   "execution_count": 8,
   "id": "ba2ec72b",
   "metadata": {},
   "outputs": [],
   "source": [
    "df_categorical = df.filter(['Sex','KetonesInUrine','ErythrocytesInUrine','WBCInUrine',\n",
    "                           'Peritonitis','AppendixWallLayers','TissuePerfusion'],axis=1).copy()"
   ]
  },
  {
   "cell_type": "code",
   "execution_count": 9,
   "id": "9325cc7c",
   "metadata": {},
   "outputs": [],
   "source": [
    "#df_categorical.info()"
   ]
  },
  {
   "cell_type": "code",
   "execution_count": 10,
   "id": "24164a41",
   "metadata": {},
   "outputs": [],
   "source": [
    "#df_categorical.head()"
   ]
  },
  {
   "cell_type": "code",
   "execution_count": 11,
   "id": "200f33ec",
   "metadata": {},
   "outputs": [],
   "source": [
    "df_boolean = df.filter(['AppendixOnSono','MigratoryPain','LowerAbdominalPainRight','ReboundTenderness','CoughingPain',\n",
    "                    'Nausea','AppetiteLoss','Dysuria','FreeFluids','Kokarde',\n",
    "                    'SurroundingTissueReaction','PathLymphNodes','MesentricLymphadenitis','BowelWallThick','Ileus',\n",
    "                    'FecalImpaction','Meteorism','Enteritis','DiagnosisByCriteria',\n",
    "                     'PsoasSign','Stool'],axis=1).copy()"
   ]
  },
  {
   "cell_type": "code",
   "execution_count": 12,
   "id": "a99f23ca",
   "metadata": {},
   "outputs": [],
   "source": [
    "#df_boolean.info()"
   ]
  },
  {
   "cell_type": "code",
   "execution_count": 13,
   "id": "31561364",
   "metadata": {},
   "outputs": [],
   "source": [
    "#df_boolean.sample(10)"
   ]
  },
  {
   "cell_type": "code",
   "execution_count": 14,
   "id": "33fe279b",
   "metadata": {},
   "outputs": [],
   "source": [
    "#pandas profiling\n",
    "#from pandas_profiling import ProfileReport"
   ]
  },
  {
   "cell_type": "code",
   "execution_count": 15,
   "id": "f0991428",
   "metadata": {},
   "outputs": [],
   "source": [
    "#profile = ProfileReport(df)\n",
    "#profile.to_file(output_file = \"AppendicitisComplications_profiling.html\")"
   ]
  },
  {
   "cell_type": "code",
   "execution_count": 16,
   "id": "db9eea14",
   "metadata": {},
   "outputs": [],
   "source": [
    "#perform label Encoding for categorical data\n",
    "\n",
    "from sklearn.preprocessing import LabelEncoder\n",
    "from pandas import Series\n",
    "df_categorical = df_categorical.apply(lambda series:pd.Series(\n",
    "      LabelEncoder().fit_transform(series[series.notnull()]),\n",
    "      index = series[series.notnull()].index\n",
    "   ))"
   ]
  },
  {
   "cell_type": "code",
   "execution_count": 17,
   "id": "414bb7fb",
   "metadata": {},
   "outputs": [],
   "source": [
    "#df_categorical.info()"
   ]
  },
  {
   "cell_type": "code",
   "execution_count": 18,
   "id": "0cdc4959",
   "metadata": {},
   "outputs": [
    {
     "data": {
      "text/html": [
       "<div>\n",
       "<style scoped>\n",
       "    .dataframe tbody tr th:only-of-type {\n",
       "        vertical-align: middle;\n",
       "    }\n",
       "\n",
       "    .dataframe tbody tr th {\n",
       "        vertical-align: top;\n",
       "    }\n",
       "\n",
       "    .dataframe thead th {\n",
       "        text-align: right;\n",
       "    }\n",
       "</style>\n",
       "<table border=\"1\" class=\"dataframe\">\n",
       "  <thead>\n",
       "    <tr style=\"text-align: right;\">\n",
       "      <th></th>\n",
       "      <th>Sex</th>\n",
       "      <th>KetonesInUrine</th>\n",
       "      <th>ErythrocytesInUrine</th>\n",
       "      <th>WBCInUrine</th>\n",
       "      <th>AppendixWallLayers</th>\n",
       "      <th>TissuePerfusion</th>\n",
       "    </tr>\n",
       "  </thead>\n",
       "  <tbody>\n",
       "    <tr>\n",
       "      <th>0</th>\n",
       "      <td>1</td>\n",
       "      <td>0.0</td>\n",
       "      <td>0.0</td>\n",
       "      <td>3.0</td>\n",
       "      <td>0.0</td>\n",
       "      <td>0.0</td>\n",
       "    </tr>\n",
       "    <tr>\n",
       "      <th>1</th>\n",
       "      <td>0</td>\n",
       "      <td>NaN</td>\n",
       "      <td>NaN</td>\n",
       "      <td>NaN</td>\n",
       "      <td>NaN</td>\n",
       "      <td>NaN</td>\n",
       "    </tr>\n",
       "    <tr>\n",
       "      <th>2</th>\n",
       "      <td>1</td>\n",
       "      <td>3.0</td>\n",
       "      <td>3.0</td>\n",
       "      <td>3.0</td>\n",
       "      <td>0.0</td>\n",
       "      <td>NaN</td>\n",
       "    </tr>\n",
       "    <tr>\n",
       "      <th>3</th>\n",
       "      <td>1</td>\n",
       "      <td>3.0</td>\n",
       "      <td>3.0</td>\n",
       "      <td>3.0</td>\n",
       "      <td>NaN</td>\n",
       "      <td>NaN</td>\n",
       "    </tr>\n",
       "    <tr>\n",
       "      <th>4</th>\n",
       "      <td>0</td>\n",
       "      <td>3.0</td>\n",
       "      <td>3.0</td>\n",
       "      <td>3.0</td>\n",
       "      <td>NaN</td>\n",
       "      <td>NaN</td>\n",
       "    </tr>\n",
       "  </tbody>\n",
       "</table>\n",
       "</div>"
      ],
      "text/plain": [
       "   Sex  KetonesInUrine  ErythrocytesInUrine  WBCInUrine  AppendixWallLayers  \\\n",
       "0    1             0.0                  0.0         3.0                 0.0   \n",
       "1    0             NaN                  NaN         NaN                 NaN   \n",
       "2    1             3.0                  3.0         3.0                 0.0   \n",
       "3    1             3.0                  3.0         3.0                 NaN   \n",
       "4    0             3.0                  3.0         3.0                 NaN   \n",
       "\n",
       "   TissuePerfusion  \n",
       "0              0.0  \n",
       "1              NaN  \n",
       "2              NaN  \n",
       "3              NaN  \n",
       "4              NaN  "
      ]
     },
     "execution_count": 18,
     "metadata": {},
     "output_type": "execute_result"
    }
   ],
   "source": [
    "df_categorical.head()"
   ]
  },
  {
   "cell_type": "code",
   "execution_count": 19,
   "id": "fbf3f179",
   "metadata": {},
   "outputs": [],
   "source": [
    "#concatanation two dataframe\n",
    "df_new = pd.concat([df_numerical,df_categorical],axis=1)"
   ]
  },
  {
   "cell_type": "code",
   "execution_count": 20,
   "id": "f12662c6",
   "metadata": {},
   "outputs": [],
   "source": [
    "#df_new.info()"
   ]
  },
  {
   "cell_type": "code",
   "execution_count": 21,
   "id": "16b35f9f",
   "metadata": {},
   "outputs": [],
   "source": [
    "# MICE imputation\n",
    "# Imputing with MICE\n",
    "from sklearn.experimental import enable_iterative_imputer\n",
    "from sklearn.impute import IterativeImputer\n",
    "from sklearn import linear_model"
   ]
  },
  {
   "cell_type": "code",
   "execution_count": 22,
   "id": "a04a9ca3",
   "metadata": {},
   "outputs": [],
   "source": [
    "# Define MICE Imputer and fill missing values\n",
    "\n",
    "mice_imputer = IterativeImputer(estimator=linear_model.BayesianRidge(), n_nearest_features=None, imputation_order='ascending')\n",
    "df_mice_imputed = pd.DataFrame(mice_imputer.fit_transform(df_new), columns=df_new.columns)"
   ]
  },
  {
   "cell_type": "code",
   "execution_count": 23,
   "id": "5326b933",
   "metadata": {},
   "outputs": [
    {
     "data": {
      "text/html": [
       "<div>\n",
       "<style scoped>\n",
       "    .dataframe tbody tr th:only-of-type {\n",
       "        vertical-align: middle;\n",
       "    }\n",
       "\n",
       "    .dataframe tbody tr th {\n",
       "        vertical-align: top;\n",
       "    }\n",
       "\n",
       "    .dataframe thead th {\n",
       "        text-align: right;\n",
       "    }\n",
       "</style>\n",
       "<table border=\"1\" class=\"dataframe\">\n",
       "  <thead>\n",
       "    <tr style=\"text-align: right;\">\n",
       "      <th></th>\n",
       "      <th>Age</th>\n",
       "      <th>BMI</th>\n",
       "      <th>Height</th>\n",
       "      <th>Weight</th>\n",
       "      <th>AlvaradoScore</th>\n",
       "      <th>PediatricAppendicitisScore</th>\n",
       "      <th>AppendixDiameter</th>\n",
       "      <th>BodyTemp</th>\n",
       "      <th>WBCCount</th>\n",
       "      <th>NeutrophilPerc</th>\n",
       "      <th>CRPEntry</th>\n",
       "      <th>Sex</th>\n",
       "      <th>KetonesInUrine</th>\n",
       "      <th>ErythrocytesInUrine</th>\n",
       "      <th>WBCInUrine</th>\n",
       "      <th>AppendixWallLayers</th>\n",
       "      <th>TissuePerfusion</th>\n",
       "    </tr>\n",
       "  </thead>\n",
       "  <tbody>\n",
       "    <tr>\n",
       "      <th>0</th>\n",
       "      <td>12.531143</td>\n",
       "      <td>16.494601</td>\n",
       "      <td>159.0</td>\n",
       "      <td>41.7</td>\n",
       "      <td>7.0</td>\n",
       "      <td>5.0</td>\n",
       "      <td>5.500000</td>\n",
       "      <td>38.7</td>\n",
       "      <td>13.3</td>\n",
       "      <td>66.0</td>\n",
       "      <td>76.0</td>\n",
       "      <td>1.0</td>\n",
       "      <td>0.000000</td>\n",
       "      <td>0.000000</td>\n",
       "      <td>3.000000</td>\n",
       "      <td>0.000000</td>\n",
       "      <td>0.000000</td>\n",
       "    </tr>\n",
       "    <tr>\n",
       "      <th>1</th>\n",
       "      <td>12.410678</td>\n",
       "      <td>12.595222</td>\n",
       "      <td>152.0</td>\n",
       "      <td>29.1</td>\n",
       "      <td>8.0</td>\n",
       "      <td>8.0</td>\n",
       "      <td>8.353261</td>\n",
       "      <td>38.8</td>\n",
       "      <td>14.9</td>\n",
       "      <td>93.2</td>\n",
       "      <td>10.0</td>\n",
       "      <td>0.0</td>\n",
       "      <td>2.320421</td>\n",
       "      <td>2.520303</td>\n",
       "      <td>2.954601</td>\n",
       "      <td>0.545276</td>\n",
       "      <td>0.990460</td>\n",
       "    </tr>\n",
       "    <tr>\n",
       "      <th>2</th>\n",
       "      <td>10.537988</td>\n",
       "      <td>15.991247</td>\n",
       "      <td>133.5</td>\n",
       "      <td>28.5</td>\n",
       "      <td>3.0</td>\n",
       "      <td>3.0</td>\n",
       "      <td>6.000000</td>\n",
       "      <td>37.2</td>\n",
       "      <td>6.6</td>\n",
       "      <td>55.3</td>\n",
       "      <td>13.0</td>\n",
       "      <td>1.0</td>\n",
       "      <td>3.000000</td>\n",
       "      <td>3.000000</td>\n",
       "      <td>3.000000</td>\n",
       "      <td>0.000000</td>\n",
       "      <td>0.996017</td>\n",
       "    </tr>\n",
       "    <tr>\n",
       "      <th>3</th>\n",
       "      <td>10.425736</td>\n",
       "      <td>16.185025</td>\n",
       "      <td>146.0</td>\n",
       "      <td>34.5</td>\n",
       "      <td>4.0</td>\n",
       "      <td>3.0</td>\n",
       "      <td>6.000000</td>\n",
       "      <td>37.0</td>\n",
       "      <td>12.4</td>\n",
       "      <td>57.9</td>\n",
       "      <td>6.0</td>\n",
       "      <td>1.0</td>\n",
       "      <td>3.000000</td>\n",
       "      <td>3.000000</td>\n",
       "      <td>3.000000</td>\n",
       "      <td>0.785886</td>\n",
       "      <td>1.007573</td>\n",
       "    </tr>\n",
       "    <tr>\n",
       "      <th>4</th>\n",
       "      <td>13.270363</td>\n",
       "      <td>20.449137</td>\n",
       "      <td>164.0</td>\n",
       "      <td>55.0</td>\n",
       "      <td>2.0</td>\n",
       "      <td>2.0</td>\n",
       "      <td>6.500000</td>\n",
       "      <td>37.2</td>\n",
       "      <td>4.2</td>\n",
       "      <td>50.6</td>\n",
       "      <td>2.0</td>\n",
       "      <td>0.0</td>\n",
       "      <td>3.000000</td>\n",
       "      <td>3.000000</td>\n",
       "      <td>3.000000</td>\n",
       "      <td>0.867427</td>\n",
       "      <td>1.030191</td>\n",
       "    </tr>\n",
       "  </tbody>\n",
       "</table>\n",
       "</div>"
      ],
      "text/plain": [
       "         Age        BMI  Height  Weight  AlvaradoScore  \\\n",
       "0  12.531143  16.494601   159.0    41.7            7.0   \n",
       "1  12.410678  12.595222   152.0    29.1            8.0   \n",
       "2  10.537988  15.991247   133.5    28.5            3.0   \n",
       "3  10.425736  16.185025   146.0    34.5            4.0   \n",
       "4  13.270363  20.449137   164.0    55.0            2.0   \n",
       "\n",
       "   PediatricAppendicitisScore  AppendixDiameter  BodyTemp  WBCCount  \\\n",
       "0                         5.0          5.500000      38.7      13.3   \n",
       "1                         8.0          8.353261      38.8      14.9   \n",
       "2                         3.0          6.000000      37.2       6.6   \n",
       "3                         3.0          6.000000      37.0      12.4   \n",
       "4                         2.0          6.500000      37.2       4.2   \n",
       "\n",
       "   NeutrophilPerc  CRPEntry  Sex  KetonesInUrine  ErythrocytesInUrine  \\\n",
       "0            66.0      76.0  1.0        0.000000             0.000000   \n",
       "1            93.2      10.0  0.0        2.320421             2.520303   \n",
       "2            55.3      13.0  1.0        3.000000             3.000000   \n",
       "3            57.9       6.0  1.0        3.000000             3.000000   \n",
       "4            50.6       2.0  0.0        3.000000             3.000000   \n",
       "\n",
       "   WBCInUrine  AppendixWallLayers  TissuePerfusion  \n",
       "0    3.000000            0.000000         0.000000  \n",
       "1    2.954601            0.545276         0.990460  \n",
       "2    3.000000            0.000000         0.996017  \n",
       "3    3.000000            0.785886         1.007573  \n",
       "4    3.000000            0.867427         1.030191  "
      ]
     },
     "execution_count": 23,
     "metadata": {},
     "output_type": "execute_result"
    }
   ],
   "source": [
    "df_mice_imputed.head()"
   ]
  },
  {
   "cell_type": "code",
   "execution_count": 24,
   "id": "06b684e2",
   "metadata": {},
   "outputs": [],
   "source": [
    "#df_knn_imputed.info()"
   ]
  },
  {
   "cell_type": "code",
   "execution_count": 25,
   "id": "4166a38b",
   "metadata": {},
   "outputs": [],
   "source": [
    "#df_knn_imputed.isnull()"
   ]
  },
  {
   "cell_type": "code",
   "execution_count": 26,
   "id": "969f6813",
   "metadata": {},
   "outputs": [],
   "source": [
    "#perform labelEncoding for Boolean data\n",
    "df_boolean = df_boolean.apply(lambda series:pd.Series(\n",
    "      LabelEncoder().fit_transform(series[series.notnull()]),\n",
    "      index = series[series.notnull()].index\n",
    "   ))"
   ]
  },
  {
   "cell_type": "code",
   "execution_count": 27,
   "id": "47741614",
   "metadata": {},
   "outputs": [],
   "source": [
    "#df_boolean.head()"
   ]
  },
  {
   "cell_type": "code",
   "execution_count": 28,
   "id": "5c531d00",
   "metadata": {},
   "outputs": [],
   "source": [
    "df_boolean = df_boolean.fillna(df_boolean.mode().iloc[0])"
   ]
  },
  {
   "cell_type": "code",
   "execution_count": 29,
   "id": "29aaf834",
   "metadata": {},
   "outputs": [],
   "source": [
    "#df_boolean.sample(20)"
   ]
  },
  {
   "cell_type": "code",
   "execution_count": 30,
   "id": "815bbf08",
   "metadata": {},
   "outputs": [],
   "source": [
    "#df_boolean.info()"
   ]
  },
  {
   "cell_type": "code",
   "execution_count": 31,
   "id": "5e8b1348",
   "metadata": {},
   "outputs": [],
   "source": [
    "#concatanation two dataframe\n",
    "df_final = pd.concat([df_mice_imputed,df_boolean],axis=1)"
   ]
  },
  {
   "cell_type": "code",
   "execution_count": 32,
   "id": "487814ec",
   "metadata": {},
   "outputs": [],
   "source": [
    "#df_final.info()"
   ]
  },
  {
   "cell_type": "code",
   "execution_count": 33,
   "id": "7cdd9f7a",
   "metadata": {
    "scrolled": true
   },
   "outputs": [
    {
     "name": "stdout",
     "output_type": "stream",
     "text": [
      "Age\n",
      "BMI\n",
      "Height\n",
      "Weight\n",
      "AlvaradoScore\n",
      "PediatricAppendicitisScore\n",
      "AppendixDiameter\n",
      "BodyTemp\n",
      "WBCCount\n",
      "NeutrophilPerc\n",
      "CRPEntry\n",
      "Sex\n",
      "KetonesInUrine\n",
      "ErythrocytesInUrine\n",
      "WBCInUrine\n",
      "AppendixWallLayers\n",
      "TissuePerfusion\n",
      "AppendixOnSono\n",
      "MigratoryPain\n",
      "LowerAbdominalPainRight\n",
      "ReboundTenderness\n",
      "CoughingPain\n",
      "Nausea\n",
      "AppetiteLoss\n",
      "Dysuria\n",
      "FreeFluids\n",
      "Kokarde\n",
      "SurroundingTissueReaction\n",
      "PathLymphNodes\n",
      "MesentricLymphadenitis\n",
      "BowelWallThick\n",
      "Ileus\n",
      "FecalImpaction\n",
      "Meteorism\n",
      "Enteritis\n",
      "DiagnosisByCriteria\n",
      "PsoasSign\n",
      "Stool\n"
     ]
    },
    {
     "data": {
      "text/html": [
       "<div>\n",
       "<style scoped>\n",
       "    .dataframe tbody tr th:only-of-type {\n",
       "        vertical-align: middle;\n",
       "    }\n",
       "\n",
       "    .dataframe tbody tr th {\n",
       "        vertical-align: top;\n",
       "    }\n",
       "\n",
       "    .dataframe thead th {\n",
       "        text-align: right;\n",
       "    }\n",
       "</style>\n",
       "<table border=\"1\" class=\"dataframe\">\n",
       "  <thead>\n",
       "    <tr style=\"text-align: right;\">\n",
       "      <th></th>\n",
       "      <th>r</th>\n",
       "      <th>p</th>\n",
       "    </tr>\n",
       "  </thead>\n",
       "  <tbody>\n",
       "    <tr>\n",
       "      <th>Age</th>\n",
       "      <td>0.072</td>\n",
       "      <td>0.135</td>\n",
       "    </tr>\n",
       "    <tr>\n",
       "      <th>BMI</th>\n",
       "      <td>0.109</td>\n",
       "      <td>0.024</td>\n",
       "    </tr>\n",
       "    <tr>\n",
       "      <th>Height</th>\n",
       "      <td>0.050</td>\n",
       "      <td>0.301</td>\n",
       "    </tr>\n",
       "    <tr>\n",
       "      <th>Weight</th>\n",
       "      <td>0.094</td>\n",
       "      <td>0.051</td>\n",
       "    </tr>\n",
       "    <tr>\n",
       "      <th>AlvaradoScore</th>\n",
       "      <td>-0.439</td>\n",
       "      <td>0.000</td>\n",
       "    </tr>\n",
       "    <tr>\n",
       "      <th>PediatricAppendicitisScore</th>\n",
       "      <td>-0.373</td>\n",
       "      <td>0.000</td>\n",
       "    </tr>\n",
       "    <tr>\n",
       "      <th>AppendixDiameter</th>\n",
       "      <td>-0.507</td>\n",
       "      <td>0.000</td>\n",
       "    </tr>\n",
       "    <tr>\n",
       "      <th>BodyTemp</th>\n",
       "      <td>-0.198</td>\n",
       "      <td>0.000</td>\n",
       "    </tr>\n",
       "    <tr>\n",
       "      <th>WBCCount</th>\n",
       "      <td>-0.416</td>\n",
       "      <td>0.000</td>\n",
       "    </tr>\n",
       "    <tr>\n",
       "      <th>NeutrophilPerc</th>\n",
       "      <td>-0.450</td>\n",
       "      <td>0.000</td>\n",
       "    </tr>\n",
       "    <tr>\n",
       "      <th>CRPEntry</th>\n",
       "      <td>-0.267</td>\n",
       "      <td>0.000</td>\n",
       "    </tr>\n",
       "    <tr>\n",
       "      <th>Sex</th>\n",
       "      <td>-0.102</td>\n",
       "      <td>0.034</td>\n",
       "    </tr>\n",
       "    <tr>\n",
       "      <th>KetonesInUrine</th>\n",
       "      <td>0.123</td>\n",
       "      <td>0.011</td>\n",
       "    </tr>\n",
       "    <tr>\n",
       "      <th>ErythrocytesInUrine</th>\n",
       "      <td>0.042</td>\n",
       "      <td>0.381</td>\n",
       "    </tr>\n",
       "    <tr>\n",
       "      <th>WBCInUrine</th>\n",
       "      <td>-0.024</td>\n",
       "      <td>0.615</td>\n",
       "    </tr>\n",
       "    <tr>\n",
       "      <th>AppendixWallLayers</th>\n",
       "      <td>0.290</td>\n",
       "      <td>0.000</td>\n",
       "    </tr>\n",
       "    <tr>\n",
       "      <th>TissuePerfusion</th>\n",
       "      <td>0.138</td>\n",
       "      <td>0.004</td>\n",
       "    </tr>\n",
       "    <tr>\n",
       "      <th>AppendixOnSono</th>\n",
       "      <td>-0.531</td>\n",
       "      <td>0.000</td>\n",
       "    </tr>\n",
       "    <tr>\n",
       "      <th>MigratoryPain</th>\n",
       "      <td>-0.141</td>\n",
       "      <td>0.003</td>\n",
       "    </tr>\n",
       "    <tr>\n",
       "      <th>LowerAbdominalPainRight</th>\n",
       "      <td>-0.067</td>\n",
       "      <td>0.166</td>\n",
       "    </tr>\n",
       "    <tr>\n",
       "      <th>ReboundTenderness</th>\n",
       "      <td>-0.158</td>\n",
       "      <td>0.001</td>\n",
       "    </tr>\n",
       "    <tr>\n",
       "      <th>CoughingPain</th>\n",
       "      <td>-0.144</td>\n",
       "      <td>0.003</td>\n",
       "    </tr>\n",
       "    <tr>\n",
       "      <th>Nausea</th>\n",
       "      <td>-0.138</td>\n",
       "      <td>0.004</td>\n",
       "    </tr>\n",
       "    <tr>\n",
       "      <th>AppetiteLoss</th>\n",
       "      <td>-0.067</td>\n",
       "      <td>0.164</td>\n",
       "    </tr>\n",
       "    <tr>\n",
       "      <th>Dysuria</th>\n",
       "      <td>0.098</td>\n",
       "      <td>0.043</td>\n",
       "    </tr>\n",
       "    <tr>\n",
       "      <th>FreeFluids</th>\n",
       "      <td>-0.191</td>\n",
       "      <td>0.000</td>\n",
       "    </tr>\n",
       "    <tr>\n",
       "      <th>Kokarde</th>\n",
       "      <td>-0.314</td>\n",
       "      <td>0.000</td>\n",
       "    </tr>\n",
       "    <tr>\n",
       "      <th>SurroundingTissueReaction</th>\n",
       "      <td>-0.133</td>\n",
       "      <td>0.006</td>\n",
       "    </tr>\n",
       "    <tr>\n",
       "      <th>PathLymphNodes</th>\n",
       "      <td>0.018</td>\n",
       "      <td>0.709</td>\n",
       "    </tr>\n",
       "    <tr>\n",
       "      <th>MesentricLymphadenitis</th>\n",
       "      <td>-0.047</td>\n",
       "      <td>0.327</td>\n",
       "    </tr>\n",
       "    <tr>\n",
       "      <th>BowelWallThick</th>\n",
       "      <td>-0.143</td>\n",
       "      <td>0.003</td>\n",
       "    </tr>\n",
       "    <tr>\n",
       "      <th>Ileus</th>\n",
       "      <td>-0.133</td>\n",
       "      <td>0.006</td>\n",
       "    </tr>\n",
       "    <tr>\n",
       "      <th>FecalImpaction</th>\n",
       "      <td>0.038</td>\n",
       "      <td>0.426</td>\n",
       "    </tr>\n",
       "    <tr>\n",
       "      <th>Meteorism</th>\n",
       "      <td>0.064</td>\n",
       "      <td>0.186</td>\n",
       "    </tr>\n",
       "    <tr>\n",
       "      <th>Enteritis</th>\n",
       "      <td>0.180</td>\n",
       "      <td>0.000</td>\n",
       "    </tr>\n",
       "    <tr>\n",
       "      <th>DiagnosisByCriteria</th>\n",
       "      <td>1.000</td>\n",
       "      <td>0.000</td>\n",
       "    </tr>\n",
       "    <tr>\n",
       "      <th>PsoasSign</th>\n",
       "      <td>0.080</td>\n",
       "      <td>0.097</td>\n",
       "    </tr>\n",
       "    <tr>\n",
       "      <th>Stool</th>\n",
       "      <td>0.071</td>\n",
       "      <td>0.144</td>\n",
       "    </tr>\n",
       "  </tbody>\n",
       "</table>\n",
       "</div>"
      ],
      "text/plain": [
       "                                r      p\n",
       "Age                         0.072  0.135\n",
       "BMI                         0.109  0.024\n",
       "Height                      0.050  0.301\n",
       "Weight                      0.094  0.051\n",
       "AlvaradoScore              -0.439  0.000\n",
       "PediatricAppendicitisScore -0.373  0.000\n",
       "AppendixDiameter           -0.507  0.000\n",
       "BodyTemp                   -0.198  0.000\n",
       "WBCCount                   -0.416  0.000\n",
       "NeutrophilPerc             -0.450  0.000\n",
       "CRPEntry                   -0.267  0.000\n",
       "Sex                        -0.102  0.034\n",
       "KetonesInUrine              0.123  0.011\n",
       "ErythrocytesInUrine         0.042  0.381\n",
       "WBCInUrine                 -0.024  0.615\n",
       "AppendixWallLayers          0.290  0.000\n",
       "TissuePerfusion             0.138  0.004\n",
       "AppendixOnSono             -0.531  0.000\n",
       "MigratoryPain              -0.141  0.003\n",
       "LowerAbdominalPainRight    -0.067  0.166\n",
       "ReboundTenderness          -0.158  0.001\n",
       "CoughingPain               -0.144  0.003\n",
       "Nausea                     -0.138  0.004\n",
       "AppetiteLoss               -0.067  0.164\n",
       "Dysuria                     0.098  0.043\n",
       "FreeFluids                 -0.191  0.000\n",
       "Kokarde                    -0.314  0.000\n",
       "SurroundingTissueReaction  -0.133  0.006\n",
       "PathLymphNodes              0.018  0.709\n",
       "MesentricLymphadenitis     -0.047  0.327\n",
       "BowelWallThick             -0.143  0.003\n",
       "Ileus                      -0.133  0.006\n",
       "FecalImpaction              0.038  0.426\n",
       "Meteorism                   0.064  0.186\n",
       "Enteritis                   0.180  0.000\n",
       "DiagnosisByCriteria         1.000  0.000\n",
       "PsoasSign                   0.080  0.097\n",
       "Stool                       0.071  0.144"
      ]
     },
     "execution_count": 33,
     "metadata": {},
     "output_type": "execute_result"
    }
   ],
   "source": [
    "#correlation and pvalue\n",
    "\n",
    "from scipy import stats\n",
    "corr_df=pd.DataFrame(columns=['r','p'])\n",
    "\n",
    "for col in df_final:\n",
    "    print(col)\n",
    "    if pd.api.types.is_numeric_dtype(df_final[col]):\n",
    "        r,p = stats.pearsonr(df_final.DiagnosisByCriteria,df_final[col])\n",
    "        corr_df.loc[col]=[round(r,3),round(p,3)]\n",
    "\n",
    "corr_df"
   ]
  },
  {
   "cell_type": "code",
   "execution_count": 34,
   "id": "fcea45a1",
   "metadata": {},
   "outputs": [],
   "source": [
    "#pd.DataFrame({'coef': results.params , 'pvalue': round(results.pvalues,3)})"
   ]
  },
  {
   "cell_type": "code",
   "execution_count": 35,
   "id": "210afe89",
   "metadata": {},
   "outputs": [
    {
     "data": {
      "text/plain": [
       "0    246\n",
       "1    184\n",
       "Name: DiagnosisByCriteria, dtype: int64"
      ]
     },
     "execution_count": 35,
     "metadata": {},
     "output_type": "execute_result"
    }
   ],
   "source": [
    "df_final['DiagnosisByCriteria'].value_counts()"
   ]
  },
  {
   "cell_type": "code",
   "execution_count": 36,
   "id": "dd0488ad",
   "metadata": {},
   "outputs": [],
   "source": [
    "no = df_final[df_final.DiagnosisByCriteria==0]\n",
    "yes = df_final[df_final.DiagnosisByCriteria==1]"
   ]
  },
  {
   "cell_type": "code",
   "execution_count": 37,
   "id": "672dc2b3",
   "metadata": {},
   "outputs": [
    {
     "name": "stdout",
     "output_type": "stream",
     "text": [
      "(246, 38)\n",
      "(184, 38)\n"
     ]
    }
   ],
   "source": [
    "print(no.shape)\n",
    "print(yes.shape)"
   ]
  },
  {
   "cell_type": "code",
   "execution_count": 38,
   "id": "66353d4e",
   "metadata": {},
   "outputs": [],
   "source": [
    "#spliting the data for training and testing\n",
    "\n",
    "X=df_final.drop(columns='DiagnosisByCriteria',axis=1)\n",
    "Y=df_final['DiagnosisByCriteria']"
   ]
  },
  {
   "cell_type": "code",
   "execution_count": 39,
   "id": "27979db2",
   "metadata": {},
   "outputs": [],
   "source": [
    "from sklearn.model_selection import train_test_split\n",
    "X_train, X_test, Y_train, Y_test = train_test_split(X, Y, test_size=.20, stratify=Y, random_state=2)"
   ]
  },
  {
   "cell_type": "code",
   "execution_count": 40,
   "id": "732a4c9b",
   "metadata": {},
   "outputs": [
    {
     "name": "stdout",
     "output_type": "stream",
     "text": [
      "(430,)\n",
      "(344,)\n",
      "(86,)\n"
     ]
    }
   ],
   "source": [
    "print(Y.shape)\n",
    "print(Y_train.shape)\n",
    "print(Y_test.shape)"
   ]
  },
  {
   "cell_type": "markdown",
   "id": "253b4bb2",
   "metadata": {},
   "source": [
    "# Logisting Regression"
   ]
  },
  {
   "cell_type": "code",
   "execution_count": 41,
   "id": "c50467b8",
   "metadata": {},
   "outputs": [
    {
     "name": "stderr",
     "output_type": "stream",
     "text": [
      "C:\\ProgramData\\Anaconda3\\lib\\site-packages\\sklearn\\linear_model\\_logistic.py:444: ConvergenceWarning: lbfgs failed to converge (status=1):\n",
      "STOP: TOTAL NO. of ITERATIONS REACHED LIMIT.\n",
      "\n",
      "Increase the number of iterations (max_iter) or scale the data as shown in:\n",
      "    https://scikit-learn.org/stable/modules/preprocessing.html\n",
      "Please also refer to the documentation for alternative solver options:\n",
      "    https://scikit-learn.org/stable/modules/linear_model.html#logistic-regression\n",
      "  n_iter_i = _check_optimize_result(\n"
     ]
    },
    {
     "data": {
      "text/html": [
       "<style>#sk-container-id-1 {color: black;background-color: white;}#sk-container-id-1 pre{padding: 0;}#sk-container-id-1 div.sk-toggleable {background-color: white;}#sk-container-id-1 label.sk-toggleable__label {cursor: pointer;display: block;width: 100%;margin-bottom: 0;padding: 0.3em;box-sizing: border-box;text-align: center;}#sk-container-id-1 label.sk-toggleable__label-arrow:before {content: \"▸\";float: left;margin-right: 0.25em;color: #696969;}#sk-container-id-1 label.sk-toggleable__label-arrow:hover:before {color: black;}#sk-container-id-1 div.sk-estimator:hover label.sk-toggleable__label-arrow:before {color: black;}#sk-container-id-1 div.sk-toggleable__content {max-height: 0;max-width: 0;overflow: hidden;text-align: left;background-color: #f0f8ff;}#sk-container-id-1 div.sk-toggleable__content pre {margin: 0.2em;color: black;border-radius: 0.25em;background-color: #f0f8ff;}#sk-container-id-1 input.sk-toggleable__control:checked~div.sk-toggleable__content {max-height: 200px;max-width: 100%;overflow: auto;}#sk-container-id-1 input.sk-toggleable__control:checked~label.sk-toggleable__label-arrow:before {content: \"▾\";}#sk-container-id-1 div.sk-estimator input.sk-toggleable__control:checked~label.sk-toggleable__label {background-color: #d4ebff;}#sk-container-id-1 div.sk-label input.sk-toggleable__control:checked~label.sk-toggleable__label {background-color: #d4ebff;}#sk-container-id-1 input.sk-hidden--visually {border: 0;clip: rect(1px 1px 1px 1px);clip: rect(1px, 1px, 1px, 1px);height: 1px;margin: -1px;overflow: hidden;padding: 0;position: absolute;width: 1px;}#sk-container-id-1 div.sk-estimator {font-family: monospace;background-color: #f0f8ff;border: 1px dotted black;border-radius: 0.25em;box-sizing: border-box;margin-bottom: 0.5em;}#sk-container-id-1 div.sk-estimator:hover {background-color: #d4ebff;}#sk-container-id-1 div.sk-parallel-item::after {content: \"\";width: 100%;border-bottom: 1px solid gray;flex-grow: 1;}#sk-container-id-1 div.sk-label:hover label.sk-toggleable__label {background-color: #d4ebff;}#sk-container-id-1 div.sk-serial::before {content: \"\";position: absolute;border-left: 1px solid gray;box-sizing: border-box;top: 0;bottom: 0;left: 50%;z-index: 0;}#sk-container-id-1 div.sk-serial {display: flex;flex-direction: column;align-items: center;background-color: white;padding-right: 0.2em;padding-left: 0.2em;position: relative;}#sk-container-id-1 div.sk-item {position: relative;z-index: 1;}#sk-container-id-1 div.sk-parallel {display: flex;align-items: stretch;justify-content: center;background-color: white;position: relative;}#sk-container-id-1 div.sk-item::before, #sk-container-id-1 div.sk-parallel-item::before {content: \"\";position: absolute;border-left: 1px solid gray;box-sizing: border-box;top: 0;bottom: 0;left: 50%;z-index: -1;}#sk-container-id-1 div.sk-parallel-item {display: flex;flex-direction: column;z-index: 1;position: relative;background-color: white;}#sk-container-id-1 div.sk-parallel-item:first-child::after {align-self: flex-end;width: 50%;}#sk-container-id-1 div.sk-parallel-item:last-child::after {align-self: flex-start;width: 50%;}#sk-container-id-1 div.sk-parallel-item:only-child::after {width: 0;}#sk-container-id-1 div.sk-dashed-wrapped {border: 1px dashed gray;margin: 0 0.4em 0.5em 0.4em;box-sizing: border-box;padding-bottom: 0.4em;background-color: white;}#sk-container-id-1 div.sk-label label {font-family: monospace;font-weight: bold;display: inline-block;line-height: 1.2em;}#sk-container-id-1 div.sk-label-container {text-align: center;}#sk-container-id-1 div.sk-container {/* jupyter's `normalize.less` sets `[hidden] { display: none; }` but bootstrap.min.css set `[hidden] { display: none !important; }` so we also need the `!important` here to be able to override the default hidden behavior on the sphinx rendered scikit-learn.org. See: https://github.com/scikit-learn/scikit-learn/issues/21755 */display: inline-block !important;position: relative;}#sk-container-id-1 div.sk-text-repr-fallback {display: none;}</style><div id=\"sk-container-id-1\" class=\"sk-top-container\"><div class=\"sk-text-repr-fallback\"><pre>LogisticRegression()</pre><b>In a Jupyter environment, please rerun this cell to show the HTML representation or trust the notebook. <br />On GitHub, the HTML representation is unable to render, please try loading this page with nbviewer.org.</b></div><div class=\"sk-container\" hidden><div class=\"sk-item\"><div class=\"sk-estimator sk-toggleable\"><input class=\"sk-toggleable__control sk-hidden--visually\" id=\"sk-estimator-id-1\" type=\"checkbox\" checked><label for=\"sk-estimator-id-1\" class=\"sk-toggleable__label sk-toggleable__label-arrow\">LogisticRegression</label><div class=\"sk-toggleable__content\"><pre>LogisticRegression()</pre></div></div></div></div></div>"
      ],
      "text/plain": [
       "LogisticRegression()"
      ]
     },
     "execution_count": 41,
     "metadata": {},
     "output_type": "execute_result"
    }
   ],
   "source": [
    "from sklearn.linear_model import LogisticRegression\n",
    "model = LogisticRegression()\n",
    "model.fit(X_train, Y_train)"
   ]
  },
  {
   "cell_type": "code",
   "execution_count": 42,
   "id": "5fa0c8e4",
   "metadata": {},
   "outputs": [
    {
     "name": "stdout",
     "output_type": "stream",
     "text": [
      "0.9040697674418605\n",
      "0.9186046511627907\n"
     ]
    }
   ],
   "source": [
    "model_score2 = model.score(X_test, Y_test)\n",
    "model_score1 = model.score(X_train, Y_train)\n",
    "print(model_score1)\n",
    "print(model_score2)"
   ]
  },
  {
   "cell_type": "code",
   "execution_count": 43,
   "id": "c21697f4",
   "metadata": {},
   "outputs": [],
   "source": [
    "#from sklearn.model_selection import cross_val_score\n",
    "#scores = cross_val_score(model, X, Y, cv=5)\n",
    "#scores"
   ]
  },
  {
   "cell_type": "code",
   "execution_count": 44,
   "id": "643f4451",
   "metadata": {},
   "outputs": [
    {
     "name": "stderr",
     "output_type": "stream",
     "text": [
      "C:\\ProgramData\\Anaconda3\\lib\\site-packages\\sklearn\\linear_model\\_logistic.py:444: ConvergenceWarning: lbfgs failed to converge (status=1):\n",
      "STOP: TOTAL NO. of ITERATIONS REACHED LIMIT.\n",
      "\n",
      "Increase the number of iterations (max_iter) or scale the data as shown in:\n",
      "    https://scikit-learn.org/stable/modules/preprocessing.html\n",
      "Please also refer to the documentation for alternative solver options:\n",
      "    https://scikit-learn.org/stable/modules/linear_model.html#logistic-regression\n",
      "  n_iter_i = _check_optimize_result(\n",
      "C:\\ProgramData\\Anaconda3\\lib\\site-packages\\sklearn\\linear_model\\_logistic.py:444: ConvergenceWarning: lbfgs failed to converge (status=1):\n",
      "STOP: TOTAL NO. of ITERATIONS REACHED LIMIT.\n",
      "\n",
      "Increase the number of iterations (max_iter) or scale the data as shown in:\n",
      "    https://scikit-learn.org/stable/modules/preprocessing.html\n",
      "Please also refer to the documentation for alternative solver options:\n",
      "    https://scikit-learn.org/stable/modules/linear_model.html#logistic-regression\n",
      "  n_iter_i = _check_optimize_result(\n",
      "C:\\ProgramData\\Anaconda3\\lib\\site-packages\\sklearn\\linear_model\\_logistic.py:444: ConvergenceWarning: lbfgs failed to converge (status=1):\n",
      "STOP: TOTAL NO. of ITERATIONS REACHED LIMIT.\n",
      "\n",
      "Increase the number of iterations (max_iter) or scale the data as shown in:\n",
      "    https://scikit-learn.org/stable/modules/preprocessing.html\n",
      "Please also refer to the documentation for alternative solver options:\n",
      "    https://scikit-learn.org/stable/modules/linear_model.html#logistic-regression\n",
      "  n_iter_i = _check_optimize_result(\n",
      "C:\\ProgramData\\Anaconda3\\lib\\site-packages\\sklearn\\linear_model\\_logistic.py:444: ConvergenceWarning: lbfgs failed to converge (status=1):\n",
      "STOP: TOTAL NO. of ITERATIONS REACHED LIMIT.\n",
      "\n",
      "Increase the number of iterations (max_iter) or scale the data as shown in:\n",
      "    https://scikit-learn.org/stable/modules/preprocessing.html\n",
      "Please also refer to the documentation for alternative solver options:\n",
      "    https://scikit-learn.org/stable/modules/linear_model.html#logistic-regression\n",
      "  n_iter_i = _check_optimize_result(\n",
      "C:\\ProgramData\\Anaconda3\\lib\\site-packages\\sklearn\\linear_model\\_logistic.py:444: ConvergenceWarning: lbfgs failed to converge (status=1):\n",
      "STOP: TOTAL NO. of ITERATIONS REACHED LIMIT.\n",
      "\n",
      "Increase the number of iterations (max_iter) or scale the data as shown in:\n",
      "    https://scikit-learn.org/stable/modules/preprocessing.html\n",
      "Please also refer to the documentation for alternative solver options:\n",
      "    https://scikit-learn.org/stable/modules/linear_model.html#logistic-regression\n",
      "  n_iter_i = _check_optimize_result(\n",
      "C:\\ProgramData\\Anaconda3\\lib\\site-packages\\sklearn\\linear_model\\_logistic.py:444: ConvergenceWarning: lbfgs failed to converge (status=1):\n",
      "STOP: TOTAL NO. of ITERATIONS REACHED LIMIT.\n",
      "\n",
      "Increase the number of iterations (max_iter) or scale the data as shown in:\n",
      "    https://scikit-learn.org/stable/modules/preprocessing.html\n",
      "Please also refer to the documentation for alternative solver options:\n",
      "    https://scikit-learn.org/stable/modules/linear_model.html#logistic-regression\n",
      "  n_iter_i = _check_optimize_result(\n",
      "C:\\ProgramData\\Anaconda3\\lib\\site-packages\\sklearn\\linear_model\\_logistic.py:444: ConvergenceWarning: lbfgs failed to converge (status=1):\n",
      "STOP: TOTAL NO. of ITERATIONS REACHED LIMIT.\n",
      "\n",
      "Increase the number of iterations (max_iter) or scale the data as shown in:\n",
      "    https://scikit-learn.org/stable/modules/preprocessing.html\n",
      "Please also refer to the documentation for alternative solver options:\n",
      "    https://scikit-learn.org/stable/modules/linear_model.html#logistic-regression\n",
      "  n_iter_i = _check_optimize_result(\n",
      "C:\\ProgramData\\Anaconda3\\lib\\site-packages\\sklearn\\linear_model\\_logistic.py:444: ConvergenceWarning: lbfgs failed to converge (status=1):\n",
      "STOP: TOTAL NO. of ITERATIONS REACHED LIMIT.\n",
      "\n",
      "Increase the number of iterations (max_iter) or scale the data as shown in:\n",
      "    https://scikit-learn.org/stable/modules/preprocessing.html\n",
      "Please also refer to the documentation for alternative solver options:\n",
      "    https://scikit-learn.org/stable/modules/linear_model.html#logistic-regression\n",
      "  n_iter_i = _check_optimize_result(\n",
      "C:\\ProgramData\\Anaconda3\\lib\\site-packages\\sklearn\\linear_model\\_logistic.py:444: ConvergenceWarning: lbfgs failed to converge (status=1):\n",
      "STOP: TOTAL NO. of ITERATIONS REACHED LIMIT.\n",
      "\n",
      "Increase the number of iterations (max_iter) or scale the data as shown in:\n",
      "    https://scikit-learn.org/stable/modules/preprocessing.html\n",
      "Please also refer to the documentation for alternative solver options:\n",
      "    https://scikit-learn.org/stable/modules/linear_model.html#logistic-regression\n",
      "  n_iter_i = _check_optimize_result(\n",
      "C:\\ProgramData\\Anaconda3\\lib\\site-packages\\sklearn\\linear_model\\_logistic.py:444: ConvergenceWarning: lbfgs failed to converge (status=1):\n",
      "STOP: TOTAL NO. of ITERATIONS REACHED LIMIT.\n",
      "\n",
      "Increase the number of iterations (max_iter) or scale the data as shown in:\n",
      "    https://scikit-learn.org/stable/modules/preprocessing.html\n",
      "Please also refer to the documentation for alternative solver options:\n",
      "    https://scikit-learn.org/stable/modules/linear_model.html#logistic-regression\n",
      "  n_iter_i = _check_optimize_result(\n"
     ]
    },
    {
     "data": {
      "text/plain": [
       "array([0.91428571, 0.8       , 0.85714286, 0.97142857, 0.88235294,\n",
       "       0.79411765, 0.91176471, 0.82352941, 0.79411765, 0.85294118])"
      ]
     },
     "execution_count": 44,
     "metadata": {},
     "output_type": "execute_result"
    }
   ],
   "source": [
    "from sklearn.model_selection import cross_val_score\n",
    "from sklearn.model_selection import KFold\n",
    "from sklearn.metrics import accuracy_score\n",
    "\n",
    "k = 10\n",
    "kf = KFold(n_splits=k, random_state=None)\n",
    "result = cross_val_score(model , X_train, Y_train, cv = kf)\n",
    "result\n"
   ]
  },
  {
   "cell_type": "code",
   "execution_count": 45,
   "id": "cb3e6a0d",
   "metadata": {},
   "outputs": [
    {
     "name": "stdout",
     "output_type": "stream",
     "text": [
      "Avg accuracy: 0.8601680672268908\n"
     ]
    }
   ],
   "source": [
    "print(\"Avg accuracy: {}\".format(result.mean()))"
   ]
  },
  {
   "cell_type": "code",
   "execution_count": 46,
   "id": "278918fa",
   "metadata": {},
   "outputs": [
    {
     "name": "stderr",
     "output_type": "stream",
     "text": [
      "C:\\ProgramData\\Anaconda3\\lib\\site-packages\\sklearn\\linear_model\\_logistic.py:444: ConvergenceWarning: lbfgs failed to converge (status=1):\n",
      "STOP: TOTAL NO. of ITERATIONS REACHED LIMIT.\n",
      "\n",
      "Increase the number of iterations (max_iter) or scale the data as shown in:\n",
      "    https://scikit-learn.org/stable/modules/preprocessing.html\n",
      "Please also refer to the documentation for alternative solver options:\n",
      "    https://scikit-learn.org/stable/modules/linear_model.html#logistic-regression\n",
      "  n_iter_i = _check_optimize_result(\n",
      "C:\\ProgramData\\Anaconda3\\lib\\site-packages\\sklearn\\linear_model\\_logistic.py:444: ConvergenceWarning: lbfgs failed to converge (status=1):\n",
      "STOP: TOTAL NO. of ITERATIONS REACHED LIMIT.\n",
      "\n",
      "Increase the number of iterations (max_iter) or scale the data as shown in:\n",
      "    https://scikit-learn.org/stable/modules/preprocessing.html\n",
      "Please also refer to the documentation for alternative solver options:\n",
      "    https://scikit-learn.org/stable/modules/linear_model.html#logistic-regression\n",
      "  n_iter_i = _check_optimize_result(\n",
      "C:\\ProgramData\\Anaconda3\\lib\\site-packages\\sklearn\\linear_model\\_logistic.py:444: ConvergenceWarning: lbfgs failed to converge (status=1):\n",
      "STOP: TOTAL NO. of ITERATIONS REACHED LIMIT.\n",
      "\n",
      "Increase the number of iterations (max_iter) or scale the data as shown in:\n",
      "    https://scikit-learn.org/stable/modules/preprocessing.html\n",
      "Please also refer to the documentation for alternative solver options:\n",
      "    https://scikit-learn.org/stable/modules/linear_model.html#logistic-regression\n",
      "  n_iter_i = _check_optimize_result(\n",
      "C:\\ProgramData\\Anaconda3\\lib\\site-packages\\sklearn\\linear_model\\_logistic.py:444: ConvergenceWarning: lbfgs failed to converge (status=1):\n",
      "STOP: TOTAL NO. of ITERATIONS REACHED LIMIT.\n",
      "\n",
      "Increase the number of iterations (max_iter) or scale the data as shown in:\n",
      "    https://scikit-learn.org/stable/modules/preprocessing.html\n",
      "Please also refer to the documentation for alternative solver options:\n",
      "    https://scikit-learn.org/stable/modules/linear_model.html#logistic-regression\n",
      "  n_iter_i = _check_optimize_result(\n",
      "C:\\ProgramData\\Anaconda3\\lib\\site-packages\\sklearn\\linear_model\\_logistic.py:444: ConvergenceWarning: lbfgs failed to converge (status=1):\n",
      "STOP: TOTAL NO. of ITERATIONS REACHED LIMIT.\n",
      "\n",
      "Increase the number of iterations (max_iter) or scale the data as shown in:\n",
      "    https://scikit-learn.org/stable/modules/preprocessing.html\n",
      "Please also refer to the documentation for alternative solver options:\n",
      "    https://scikit-learn.org/stable/modules/linear_model.html#logistic-regression\n",
      "  n_iter_i = _check_optimize_result(\n",
      "C:\\ProgramData\\Anaconda3\\lib\\site-packages\\sklearn\\linear_model\\_logistic.py:444: ConvergenceWarning: lbfgs failed to converge (status=1):\n",
      "STOP: TOTAL NO. of ITERATIONS REACHED LIMIT.\n",
      "\n",
      "Increase the number of iterations (max_iter) or scale the data as shown in:\n",
      "    https://scikit-learn.org/stable/modules/preprocessing.html\n",
      "Please also refer to the documentation for alternative solver options:\n",
      "    https://scikit-learn.org/stable/modules/linear_model.html#logistic-regression\n",
      "  n_iter_i = _check_optimize_result(\n",
      "C:\\ProgramData\\Anaconda3\\lib\\site-packages\\sklearn\\linear_model\\_logistic.py:444: ConvergenceWarning: lbfgs failed to converge (status=1):\n",
      "STOP: TOTAL NO. of ITERATIONS REACHED LIMIT.\n",
      "\n",
      "Increase the number of iterations (max_iter) or scale the data as shown in:\n",
      "    https://scikit-learn.org/stable/modules/preprocessing.html\n",
      "Please also refer to the documentation for alternative solver options:\n",
      "    https://scikit-learn.org/stable/modules/linear_model.html#logistic-regression\n",
      "  n_iter_i = _check_optimize_result(\n",
      "C:\\ProgramData\\Anaconda3\\lib\\site-packages\\sklearn\\linear_model\\_logistic.py:444: ConvergenceWarning: lbfgs failed to converge (status=1):\n",
      "STOP: TOTAL NO. of ITERATIONS REACHED LIMIT.\n",
      "\n",
      "Increase the number of iterations (max_iter) or scale the data as shown in:\n",
      "    https://scikit-learn.org/stable/modules/preprocessing.html\n",
      "Please also refer to the documentation for alternative solver options:\n",
      "    https://scikit-learn.org/stable/modules/linear_model.html#logistic-regression\n",
      "  n_iter_i = _check_optimize_result(\n",
      "C:\\ProgramData\\Anaconda3\\lib\\site-packages\\sklearn\\linear_model\\_logistic.py:444: ConvergenceWarning: lbfgs failed to converge (status=1):\n",
      "STOP: TOTAL NO. of ITERATIONS REACHED LIMIT.\n",
      "\n",
      "Increase the number of iterations (max_iter) or scale the data as shown in:\n",
      "    https://scikit-learn.org/stable/modules/preprocessing.html\n",
      "Please also refer to the documentation for alternative solver options:\n",
      "    https://scikit-learn.org/stable/modules/linear_model.html#logistic-regression\n",
      "  n_iter_i = _check_optimize_result(\n",
      "C:\\ProgramData\\Anaconda3\\lib\\site-packages\\sklearn\\linear_model\\_logistic.py:444: ConvergenceWarning: lbfgs failed to converge (status=1):\n",
      "STOP: TOTAL NO. of ITERATIONS REACHED LIMIT.\n",
      "\n",
      "Increase the number of iterations (max_iter) or scale the data as shown in:\n",
      "    https://scikit-learn.org/stable/modules/preprocessing.html\n",
      "Please also refer to the documentation for alternative solver options:\n",
      "    https://scikit-learn.org/stable/modules/linear_model.html#logistic-regression\n",
      "  n_iter_i = _check_optimize_result(\n"
     ]
    },
    {
     "data": {
      "text/plain": [
       "array([0.88888889, 0.77777778, 0.77777778, 0.66666667, 1.        ,\n",
       "       0.88888889, 0.875     , 0.875     , 0.75      , 0.5       ])"
      ]
     },
     "execution_count": 46,
     "metadata": {},
     "output_type": "execute_result"
    }
   ],
   "source": [
    "from sklearn.model_selection import cross_val_score\n",
    "from sklearn.model_selection import KFold\n",
    "from sklearn.metrics import accuracy_score\n",
    "\n",
    "k = 10\n",
    "kf = KFold(n_splits=k, random_state=None)\n",
    "result = cross_val_score(model , X_test, Y_test, cv = kf)\n",
    "result"
   ]
  },
  {
   "cell_type": "code",
   "execution_count": 47,
   "id": "39c4d97e",
   "metadata": {},
   "outputs": [
    {
     "name": "stdout",
     "output_type": "stream",
     "text": [
      "Avg accuracy: 0.8\n"
     ]
    }
   ],
   "source": [
    "print(\"Avg accuracy: {}\".format(result.mean()))"
   ]
  },
  {
   "cell_type": "code",
   "execution_count": 48,
   "id": "a71473c4",
   "metadata": {},
   "outputs": [
    {
     "data": {
      "image/png": "[encoded data removed]",
      "text/plain": [
       "<Figure size 432x288 with 2 Axes>"
      ]
     },
     "metadata": {
      "needs_background": "light"
     },
     "output_type": "display_data"
    }
   ],
   "source": [
    "from sklearn import metrics\n",
    "import matplotlib.pyplot as plt\n",
    " \n",
    "# make predictions\n",
    "predicted = model.predict(X_test)\n",
    "from sklearn.metrics import accuracy_score, confusion_matrix\n",
    "confusion_matrix = metrics.confusion_matrix(Y_test,predicted)\n",
    "\n",
    "cm_display = metrics.ConfusionMatrixDisplay(confusion_matrix = confusion_matrix, display_labels = [False, True])\n",
    "cm_display.plot()\n",
    "plt.show()"
   ]
  },
  {
   "cell_type": "code",
   "execution_count": 49,
   "id": "92e72e4e",
   "metadata": {},
   "outputs": [
    {
     "name": "stdout",
     "output_type": "stream",
     "text": [
      "Sensitivity:  0.8648648648648649\n",
      "specificity:  0.9591836734693877\n",
      "PPV:  0.9411764705882353\n",
      "NPV:  0.9038461538461539\n"
     ]
    }
   ],
   "source": [
    "TN = confusion_matrix[0][0]\n",
    "FN = confusion_matrix[1][0] \n",
    "TP = confusion_matrix[1][1]\n",
    "FP = confusion_matrix[0][1]\n",
    "\n",
    "sensitivity = (TP / float(TP + FN))\n",
    "specificity = (TN / float(TN + FP))\n",
    "ppv = (TP / float(TP + FP))\n",
    "npv = (TN / float(TN + FN))\n",
    "\n",
    "print(\"Sensitivity: \",sensitivity)\n",
    "print(\"specificity: \",specificity)\n",
    "print(\"PPV: \",ppv)\n",
    "print(\"NPV: \",npv)"
   ]
  },
  {
   "cell_type": "code",
   "execution_count": 50,
   "id": "20d94c28",
   "metadata": {},
   "outputs": [
    {
     "name": "stdout",
     "output_type": "stream",
     "text": [
      "AUROC: 0.985107556536128\n",
      "AUPR: 0.9802185803724344\n"
     ]
    }
   ],
   "source": [
    "# AUROC and AUPR value\n",
    "from sklearn.metrics import auc, roc_curve, precision_recall_curve\n",
    "\n",
    "y_predictProb = model.predict_proba(X_test)\n",
    "\n",
    "fpr, tpr, thresholds = roc_curve(Y_test, y_predictProb[::,1])\n",
    "roc_auc = auc(fpr, tpr)\n",
    "\n",
    "precision, recall, thresholds = precision_recall_curve(Y_test, y_predictProb[::,1])\n",
    "area = auc(recall, precision)\n",
    "\n",
    "print(\"AUROC:\",roc_auc)\n",
    "print(\"AUPR:\",area)"
   ]
  },
  {
   "cell_type": "code",
   "execution_count": 51,
   "id": "04b2925f",
   "metadata": {},
   "outputs": [
    {
     "data": {
      "text/plain": [
       "<function matplotlib.pyplot.show(close=None, block=None)>"
      ]
     },
     "execution_count": 51,
     "metadata": {},
     "output_type": "execute_result"
    },
    {
     "data": {
      "image/png": "[encoded data removed]",
      "text/plain": [
       "<Figure size 432x288 with 1 Axes>"
      ]
     },
     "metadata": {
      "needs_background": "light"
     },
     "output_type": "display_data"
    }
   ],
   "source": [
    "# AURoc graph\n",
    "\n",
    "plt.plot(fpr, tpr, color='red', label='ROC curve (area = %0.2f)' % roc_auc)\n",
    "plt.plot([0, 1], [0, 1], color='navy', linestyle='--')\n",
    "plt.xlabel('False Positive Rate')\n",
    "plt.ylabel('True Positive Rate')\n",
    "plt.title('Receiver operating characteristic')\n",
    "plt.legend(loc=\"lower right\")\n",
    "plt.show"
   ]
  },
  {
   "cell_type": "code",
   "execution_count": 52,
   "id": "b3f82a30",
   "metadata": {},
   "outputs": [
    {
     "data": {
      "text/plain": [
       "<function matplotlib.pyplot.show(close=None, block=None)>"
      ]
     },
     "execution_count": 52,
     "metadata": {},
     "output_type": "execute_result"
    },
    {
     "data": {
      "image/png": "[encoded data removed]",
      "text/plain": [
       "<Figure size 432x288 with 1 Axes>"
      ]
     },
     "metadata": {
      "needs_background": "light"
     },
     "output_type": "display_data"
    }
   ],
   "source": [
    "# AUPR graph\n",
    "\n",
    "plt.plot(fpr, tpr, color='red', label='PR curve (area = %0.2f)' % area)\n",
    "plt.plot([0, 1], [0, 1], color='navy', linestyle='--')\n",
    "plt.xlabel('False Positive Rate')\n",
    "plt.ylabel('True Positive Rate')\n",
    "plt.title('Receiver operating characteristic')\n",
    "plt.legend(loc=\"lower right\")\n",
    "plt.show"
   ]
  },
  {
   "cell_type": "markdown",
   "id": "1354f740",
   "metadata": {},
   "source": [
    "# Random Forest"
   ]
  },
  {
   "cell_type": "code",
   "execution_count": 53,
   "id": "eddd0360",
   "metadata": {},
   "outputs": [
    {
     "data": {
      "text/html": [
       "<style>#sk-container-id-2 {color: black;background-color: white;}#sk-container-id-2 pre{padding: 0;}#sk-container-id-2 div.sk-toggleable {background-color: white;}#sk-container-id-2 label.sk-toggleable__label {cursor: pointer;display: block;width: 100%;margin-bottom: 0;padding: 0.3em;box-sizing: border-box;text-align: center;}#sk-container-id-2 label.sk-toggleable__label-arrow:before {content: \"▸\";float: left;margin-right: 0.25em;color: #696969;}#sk-container-id-2 label.sk-toggleable__label-arrow:hover:before {color: black;}#sk-container-id-2 div.sk-estimator:hover label.sk-toggleable__label-arrow:before {color: black;}#sk-container-id-2 div.sk-toggleable__content {max-height: 0;max-width: 0;overflow: hidden;text-align: left;background-color: #f0f8ff;}#sk-container-id-2 div.sk-toggleable__content pre {margin: 0.2em;color: black;border-radius: 0.25em;background-color: #f0f8ff;}#sk-container-id-2 input.sk-toggleable__control:checked~div.sk-toggleable__content {max-height: 200px;max-width: 100%;overflow: auto;}#sk-container-id-2 input.sk-toggleable__control:checked~label.sk-toggleable__label-arrow:before {content: \"▾\";}#sk-container-id-2 div.sk-estimator input.sk-toggleable__control:checked~label.sk-toggleable__label {background-color: #d4ebff;}#sk-container-id-2 div.sk-label input.sk-toggleable__control:checked~label.sk-toggleable__label {background-color: #d4ebff;}#sk-container-id-2 input.sk-hidden--visually {border: 0;clip: rect(1px 1px 1px 1px);clip: rect(1px, 1px, 1px, 1px);height: 1px;margin: -1px;overflow: hidden;padding: 0;position: absolute;width: 1px;}#sk-container-id-2 div.sk-estimator {font-family: monospace;background-color: #f0f8ff;border: 1px dotted black;border-radius: 0.25em;box-sizing: border-box;margin-bottom: 0.5em;}#sk-container-id-2 div.sk-estimator:hover {background-color: #d4ebff;}#sk-container-id-2 div.sk-parallel-item::after {content: \"\";width: 100%;border-bottom: 1px solid gray;flex-grow: 1;}#sk-container-id-2 div.sk-label:hover label.sk-toggleable__label {background-color: #d4ebff;}#sk-container-id-2 div.sk-serial::before {content: \"\";position: absolute;border-left: 1px solid gray;box-sizing: border-box;top: 0;bottom: 0;left: 50%;z-index: 0;}#sk-container-id-2 div.sk-serial {display: flex;flex-direction: column;align-items: center;background-color: white;padding-right: 0.2em;padding-left: 0.2em;position: relative;}#sk-container-id-2 div.sk-item {position: relative;z-index: 1;}#sk-container-id-2 div.sk-parallel {display: flex;align-items: stretch;justify-content: center;background-color: white;position: relative;}#sk-container-id-2 div.sk-item::before, #sk-container-id-2 div.sk-parallel-item::before {content: \"\";position: absolute;border-left: 1px solid gray;box-sizing: border-box;top: 0;bottom: 0;left: 50%;z-index: -1;}#sk-container-id-2 div.sk-parallel-item {display: flex;flex-direction: column;z-index: 1;position: relative;background-color: white;}#sk-container-id-2 div.sk-parallel-item:first-child::after {align-self: flex-end;width: 50%;}#sk-container-id-2 div.sk-parallel-item:last-child::after {align-self: flex-start;width: 50%;}#sk-container-id-2 div.sk-parallel-item:only-child::after {width: 0;}#sk-container-id-2 div.sk-dashed-wrapped {border: 1px dashed gray;margin: 0 0.4em 0.5em 0.4em;box-sizing: border-box;padding-bottom: 0.4em;background-color: white;}#sk-container-id-2 div.sk-label label {font-family: monospace;font-weight: bold;display: inline-block;line-height: 1.2em;}#sk-container-id-2 div.sk-label-container {text-align: center;}#sk-container-id-2 div.sk-container {/* jupyter's `normalize.less` sets `[hidden] { display: none; }` but bootstrap.min.css set `[hidden] { display: none !important; }` so we also need the `!important` here to be able to override the default hidden behavior on the sphinx rendered scikit-learn.org. See: https://github.com/scikit-learn/scikit-learn/issues/21755 */display: inline-block !important;position: relative;}#sk-container-id-2 div.sk-text-repr-fallback {display: none;}</style><div id=\"sk-container-id-2\" class=\"sk-top-container\"><div class=\"sk-text-repr-fallback\"><pre>RandomForestClassifier(n_estimators=10, random_state=1)</pre><b>In a Jupyter environment, please rerun this cell to show the HTML representation or trust the notebook. <br />On GitHub, the HTML representation is unable to render, please try loading this page with nbviewer.org.</b></div><div class=\"sk-container\" hidden><div class=\"sk-item\"><div class=\"sk-estimator sk-toggleable\"><input class=\"sk-toggleable__control sk-hidden--visually\" id=\"sk-estimator-id-2\" type=\"checkbox\" checked><label for=\"sk-estimator-id-2\" class=\"sk-toggleable__label sk-toggleable__label-arrow\">RandomForestClassifier</label><div class=\"sk-toggleable__content\"><pre>RandomForestClassifier(n_estimators=10, random_state=1)</pre></div></div></div></div></div>"
      ],
      "text/plain": [
       "RandomForestClassifier(n_estimators=10, random_state=1)"
      ]
     },
     "execution_count": 53,
     "metadata": {},
     "output_type": "execute_result"
    }
   ],
   "source": [
    "from sklearn.ensemble import RandomForestClassifier\n",
    "forest = RandomForestClassifier(random_state = 1, n_estimators = 10, min_samples_split = 2)\n",
    "forest.fit(X_train, Y_train)"
   ]
  },
  {
   "cell_type": "code",
   "execution_count": 54,
   "id": "1abff2d2",
   "metadata": {},
   "outputs": [
    {
     "name": "stdout",
     "output_type": "stream",
     "text": [
      "0.9912790697674418\n",
      "0.8604651162790697\n"
     ]
    }
   ],
   "source": [
    "model_score2 = forest.score(X_test, Y_test)\n",
    "model_score1 = forest.score(X_train, Y_train)\n",
    "print(model_score1)\n",
    "print(model_score2)"
   ]
  },
  {
   "cell_type": "code",
   "execution_count": 55,
   "id": "09cdba8a",
   "metadata": {},
   "outputs": [
    {
     "data": {
      "text/plain": [
       "array([0.82857143, 0.77142857, 0.77142857, 0.91428571, 0.85294118,\n",
       "       0.94117647, 0.85294118, 0.88235294, 0.82352941, 0.73529412])"
      ]
     },
     "execution_count": 55,
     "metadata": {},
     "output_type": "execute_result"
    }
   ],
   "source": [
    "from sklearn.model_selection import cross_val_score\n",
    "from sklearn.model_selection import KFold\n",
    "from sklearn.metrics import accuracy_score\n",
    "\n",
    "k = 10\n",
    "kf = KFold(n_splits=k, random_state=None)\n",
    "result = cross_val_score(forest , X_train, Y_train, cv = kf)\n",
    "result\n"
   ]
  },
  {
   "cell_type": "code",
   "execution_count": 56,
   "id": "e930d5e6",
   "metadata": {},
   "outputs": [
    {
     "name": "stdout",
     "output_type": "stream",
     "text": [
      "Avg accuracy: 0.8373949579831933\n"
     ]
    }
   ],
   "source": [
    "print(\"Avg accuracy: {}\".format(result.mean()))"
   ]
  },
  {
   "cell_type": "code",
   "execution_count": 57,
   "id": "f13578c5",
   "metadata": {},
   "outputs": [
    {
     "data": {
      "text/plain": [
       "array([1.        , 0.77777778, 0.77777778, 0.77777778, 1.        ,\n",
       "       0.66666667, 0.75      , 0.75      , 0.75      , 0.75      ])"
      ]
     },
     "execution_count": 57,
     "metadata": {},
     "output_type": "execute_result"
    }
   ],
   "source": [
    "from sklearn.model_selection import cross_val_score\n",
    "from sklearn.model_selection import KFold\n",
    "from sklearn.metrics import accuracy_score\n",
    "\n",
    "k = 10\n",
    "kf = KFold(n_splits=k, random_state=None)\n",
    "result = cross_val_score(forest , X_test, Y_test, cv = kf)\n",
    "result"
   ]
  },
  {
   "cell_type": "code",
   "execution_count": 58,
   "id": "f090db53",
   "metadata": {},
   "outputs": [
    {
     "name": "stdout",
     "output_type": "stream",
     "text": [
      "Avg accuracy: 0.8\n"
     ]
    }
   ],
   "source": [
    "print(\"Avg accuracy: {}\".format(result.mean()))"
   ]
  },
  {
   "cell_type": "code",
   "execution_count": 59,
   "id": "4b1725cb",
   "metadata": {},
   "outputs": [
    {
     "data": {
      "image/png": "[encoded data removed]",
      "text/plain": [
       "<Figure size 432x288 with 2 Axes>"
      ]
     },
     "metadata": {
      "needs_background": "light"
     },
     "output_type": "display_data"
    }
   ],
   "source": [
    "# make predictions\n",
    "predicted = forest.predict(X_test)\n",
    "from sklearn.metrics import accuracy_score, confusion_matrix\n",
    "confusion_matrix = metrics.confusion_matrix(Y_test,predicted)\n",
    "\n",
    "cm_display = metrics.ConfusionMatrixDisplay(confusion_matrix = confusion_matrix, display_labels = [False, True])\n",
    "cm_display.plot()\n",
    "plt.show()"
   ]
  },
  {
   "cell_type": "code",
   "execution_count": 60,
   "id": "044f9d33",
   "metadata": {},
   "outputs": [
    {
     "name": "stdout",
     "output_type": "stream",
     "text": [
      "Sensitivity:  0.8108108108108109\n",
      "specificity:  0.8979591836734694\n",
      "PPV:  0.8571428571428571\n",
      "NPV:  0.8627450980392157\n"
     ]
    }
   ],
   "source": [
    "TN = confusion_matrix[0][0]\n",
    "FN = confusion_matrix[1][0] \n",
    "TP = confusion_matrix[1][1]\n",
    "FP = confusion_matrix[0][1]\n",
    "\n",
    "sensitivity = (TP / float(TP + FN))\n",
    "specificity = (TN / float(TN + FP))\n",
    "ppv = (TP / float(TP + FP))\n",
    "npv = (TN / float(TN + FN))\n",
    "\n",
    "print(\"Sensitivity: \",sensitivity)\n",
    "print(\"specificity: \",specificity)\n",
    "print(\"PPV: \",ppv)\n",
    "print(\"NPV: \",npv)"
   ]
  },
  {
   "cell_type": "code",
   "execution_count": 61,
   "id": "9d515314",
   "metadata": {},
   "outputs": [
    {
     "name": "stdout",
     "output_type": "stream",
     "text": [
      "AUROC: 0.9396028681742968\n",
      "AUPR: 0.9228580811015226\n"
     ]
    }
   ],
   "source": [
    "y_predictProb = forest.predict_proba(X_test)\n",
    "\n",
    "fpr, tpr, thresholds = roc_curve(Y_test, y_predictProb[::,1])\n",
    "roc_auc = auc(fpr, tpr)\n",
    "\n",
    "precision, recall, thresholds = precision_recall_curve(Y_test, y_predictProb[::,1])\n",
    "area = auc(recall, precision)\n",
    "\n",
    "print(\"AUROC:\",roc_auc)\n",
    "print(\"AUPR:\",area)"
   ]
  },
  {
   "cell_type": "code",
   "execution_count": 62,
   "id": "b87949e0",
   "metadata": {},
   "outputs": [
    {
     "data": {
      "text/plain": [
       "<function matplotlib.pyplot.show(close=None, block=None)>"
      ]
     },
     "execution_count": 62,
     "metadata": {},
     "output_type": "execute_result"
    },
    {
     "data": {
      "image/png": "[encoded data removed]",
      "text/plain": [
       "<Figure size 432x288 with 1 Axes>"
      ]
     },
     "metadata": {
      "needs_background": "light"
     },
     "output_type": "display_data"
    }
   ],
   "source": [
    "# AURoc graph\n",
    "\n",
    "plt.plot(fpr, tpr, color='red', label='ROC curve (area = %0.2f)' % roc_auc)\n",
    "plt.plot([0, 1], [0, 1], color='navy', linestyle='--')\n",
    "plt.xlabel('False Positive Rate')\n",
    "plt.ylabel('True Positive Rate')\n",
    "plt.title('Receiver operating characteristic')\n",
    "plt.legend(loc=\"lower right\")\n",
    "plt.show"
   ]
  },
  {
   "cell_type": "code",
   "execution_count": 63,
   "id": "fd81152b",
   "metadata": {},
   "outputs": [
    {
     "data": {
      "text/plain": [
       "<function matplotlib.pyplot.show(close=None, block=None)>"
      ]
     },
     "execution_count": 63,
     "metadata": {},
     "output_type": "execute_result"
    },
    {
     "data": {
      "image/png": "[encoded data removed]",
      "text/plain": [
       "<Figure size 432x288 with 1 Axes>"
      ]
     },
     "metadata": {
      "needs_background": "light"
     },
     "output_type": "display_data"
    }
   ],
   "source": [
    "# AUPR graph\n",
    "\n",
    "plt.plot(fpr, tpr, color='red', label='PR curve (area = %0.2f)' % area)\n",
    "plt.plot([0, 1], [0, 1], color='navy', linestyle='--')\n",
    "plt.xlabel('False Positive Rate')\n",
    "plt.ylabel('True Positive Rate')\n",
    "plt.title('Receiver operating characteristic')\n",
    "plt.legend(loc=\"lower right\")\n",
    "plt.show"
   ]
  },
  {
   "cell_type": "markdown",
   "id": "5502b11e",
   "metadata": {},
   "source": [
    "# Decision Tree"
   ]
  },
  {
   "cell_type": "code",
   "execution_count": 64,
   "id": "b12ee599",
   "metadata": {},
   "outputs": [
    {
     "data": {
      "text/html": [
       "<style>#sk-container-id-3 {color: black;background-color: white;}#sk-container-id-3 pre{padding: 0;}#sk-container-id-3 div.sk-toggleable {background-color: white;}#sk-container-id-3 label.sk-toggleable__label {cursor: pointer;display: block;width: 100%;margin-bottom: 0;padding: 0.3em;box-sizing: border-box;text-align: center;}#sk-container-id-3 label.sk-toggleable__label-arrow:before {content: \"▸\";float: left;margin-right: 0.25em;color: #696969;}#sk-container-id-3 label.sk-toggleable__label-arrow:hover:before {color: black;}#sk-container-id-3 div.sk-estimator:hover label.sk-toggleable__label-arrow:before {color: black;}#sk-container-id-3 div.sk-toggleable__content {max-height: 0;max-width: 0;overflow: hidden;text-align: left;background-color: #f0f8ff;}#sk-container-id-3 div.sk-toggleable__content pre {margin: 0.2em;color: black;border-radius: 0.25em;background-color: #f0f8ff;}#sk-container-id-3 input.sk-toggleable__control:checked~div.sk-toggleable__content {max-height: 200px;max-width: 100%;overflow: auto;}#sk-container-id-3 input.sk-toggleable__control:checked~label.sk-toggleable__label-arrow:before {content: \"▾\";}#sk-container-id-3 div.sk-estimator input.sk-toggleable__control:checked~label.sk-toggleable__label {background-color: #d4ebff;}#sk-container-id-3 div.sk-label input.sk-toggleable__control:checked~label.sk-toggleable__label {background-color: #d4ebff;}#sk-container-id-3 input.sk-hidden--visually {border: 0;clip: rect(1px 1px 1px 1px);clip: rect(1px, 1px, 1px, 1px);height: 1px;margin: -1px;overflow: hidden;padding: 0;position: absolute;width: 1px;}#sk-container-id-3 div.sk-estimator {font-family: monospace;background-color: #f0f8ff;border: 1px dotted black;border-radius: 0.25em;box-sizing: border-box;margin-bottom: 0.5em;}#sk-container-id-3 div.sk-estimator:hover {background-color: #d4ebff;}#sk-container-id-3 div.sk-parallel-item::after {content: \"\";width: 100%;border-bottom: 1px solid gray;flex-grow: 1;}#sk-container-id-3 div.sk-label:hover label.sk-toggleable__label {background-color: #d4ebff;}#sk-container-id-3 div.sk-serial::before {content: \"\";position: absolute;border-left: 1px solid gray;box-sizing: border-box;top: 0;bottom: 0;left: 50%;z-index: 0;}#sk-container-id-3 div.sk-serial {display: flex;flex-direction: column;align-items: center;background-color: white;padding-right: 0.2em;padding-left: 0.2em;position: relative;}#sk-container-id-3 div.sk-item {position: relative;z-index: 1;}#sk-container-id-3 div.sk-parallel {display: flex;align-items: stretch;justify-content: center;background-color: white;position: relative;}#sk-container-id-3 div.sk-item::before, #sk-container-id-3 div.sk-parallel-item::before {content: \"\";position: absolute;border-left: 1px solid gray;box-sizing: border-box;top: 0;bottom: 0;left: 50%;z-index: -1;}#sk-container-id-3 div.sk-parallel-item {display: flex;flex-direction: column;z-index: 1;position: relative;background-color: white;}#sk-container-id-3 div.sk-parallel-item:first-child::after {align-self: flex-end;width: 50%;}#sk-container-id-3 div.sk-parallel-item:last-child::after {align-self: flex-start;width: 50%;}#sk-container-id-3 div.sk-parallel-item:only-child::after {width: 0;}#sk-container-id-3 div.sk-dashed-wrapped {border: 1px dashed gray;margin: 0 0.4em 0.5em 0.4em;box-sizing: border-box;padding-bottom: 0.4em;background-color: white;}#sk-container-id-3 div.sk-label label {font-family: monospace;font-weight: bold;display: inline-block;line-height: 1.2em;}#sk-container-id-3 div.sk-label-container {text-align: center;}#sk-container-id-3 div.sk-container {/* jupyter's `normalize.less` sets `[hidden] { display: none; }` but bootstrap.min.css set `[hidden] { display: none !important; }` so we also need the `!important` here to be able to override the default hidden behavior on the sphinx rendered scikit-learn.org. See: https://github.com/scikit-learn/scikit-learn/issues/21755 */display: inline-block !important;position: relative;}#sk-container-id-3 div.sk-text-repr-fallback {display: none;}</style><div id=\"sk-container-id-3\" class=\"sk-top-container\"><div class=\"sk-text-repr-fallback\"><pre>DecisionTreeClassifier()</pre><b>In a Jupyter environment, please rerun this cell to show the HTML representation or trust the notebook. <br />On GitHub, the HTML representation is unable to render, please try loading this page with nbviewer.org.</b></div><div class=\"sk-container\" hidden><div class=\"sk-item\"><div class=\"sk-estimator sk-toggleable\"><input class=\"sk-toggleable__control sk-hidden--visually\" id=\"sk-estimator-id-3\" type=\"checkbox\" checked><label for=\"sk-estimator-id-3\" class=\"sk-toggleable__label sk-toggleable__label-arrow\">DecisionTreeClassifier</label><div class=\"sk-toggleable__content\"><pre>DecisionTreeClassifier()</pre></div></div></div></div></div>"
      ],
      "text/plain": [
       "DecisionTreeClassifier()"
      ]
     },
     "execution_count": 64,
     "metadata": {},
     "output_type": "execute_result"
    }
   ],
   "source": [
    "# using decisin tree\n",
    "from sklearn.tree import DecisionTreeClassifier\n",
    "dclf = DecisionTreeClassifier()\n",
    "dclf.fit(X_train,Y_train)"
   ]
  },
  {
   "cell_type": "code",
   "execution_count": 65,
   "id": "6856d2ab",
   "metadata": {},
   "outputs": [
    {
     "name": "stdout",
     "output_type": "stream",
     "text": [
      "1.0\n",
      "0.872093023255814\n"
     ]
    }
   ],
   "source": [
    "model_score2 = dclf.score(X_test, Y_test)\n",
    "model_score1 = dclf.score(X_train, Y_train)\n",
    "print(model_score1)\n",
    "print(model_score2)"
   ]
  },
  {
   "cell_type": "code",
   "execution_count": 66,
   "id": "faa9892e",
   "metadata": {},
   "outputs": [
    {
     "data": {
      "text/plain": [
       "array([0.82857143, 0.77142857, 0.85714286, 0.85714286, 0.82352941,\n",
       "       0.85294118, 0.91176471, 0.79411765, 0.76470588, 0.85294118])"
      ]
     },
     "execution_count": 66,
     "metadata": {},
     "output_type": "execute_result"
    }
   ],
   "source": [
    "from sklearn.model_selection import cross_val_score\n",
    "from sklearn.model_selection import KFold\n",
    "from sklearn.metrics import accuracy_score\n",
    "\n",
    "k = 10\n",
    "kf = KFold(n_splits=k, random_state=None)\n",
    "result = cross_val_score(dclf , X_train, Y_train, cv = kf)\n",
    "result\n"
   ]
  },
  {
   "cell_type": "code",
   "execution_count": 67,
   "id": "0181f34b",
   "metadata": {},
   "outputs": [
    {
     "name": "stdout",
     "output_type": "stream",
     "text": [
      "Avg accuracy: 0.8314285714285713\n"
     ]
    }
   ],
   "source": [
    "print(\"Avg accuracy: {}\".format(result.mean()))"
   ]
  },
  {
   "cell_type": "code",
   "execution_count": 68,
   "id": "b21163c3",
   "metadata": {},
   "outputs": [
    {
     "data": {
      "text/plain": [
       "array([0.88888889, 1.        , 0.88888889, 0.88888889, 0.77777778,\n",
       "       0.88888889, 0.875     , 1.        , 0.625     , 0.875     ])"
      ]
     },
     "execution_count": 68,
     "metadata": {},
     "output_type": "execute_result"
    }
   ],
   "source": [
    "from sklearn.model_selection import cross_val_score\n",
    "from sklearn.model_selection import KFold\n",
    "from sklearn.metrics import accuracy_score\n",
    "\n",
    "k = 10\n",
    "kf = KFold(n_splits=k, random_state=None)\n",
    "result = cross_val_score(dclf , X_test, Y_test, cv = kf)\n",
    "result"
   ]
  },
  {
   "cell_type": "code",
   "execution_count": 69,
   "id": "04db7434",
   "metadata": {},
   "outputs": [
    {
     "name": "stdout",
     "output_type": "stream",
     "text": [
      "Avg accuracy: 0.8708333333333332\n"
     ]
    }
   ],
   "source": [
    "print(\"Avg accuracy: {}\".format(result.mean()))"
   ]
  },
  {
   "cell_type": "code",
   "execution_count": 70,
   "id": "8af1c4b4",
   "metadata": {},
   "outputs": [
    {
     "data": {
      "image/png": "[encoded data removed]",
      "text/plain": [
       "<Figure size 432x288 with 2 Axes>"
      ]
     },
     "metadata": {
      "needs_background": "light"
     },
     "output_type": "display_data"
    }
   ],
   "source": [
    "# make predictions\n",
    "predicted = dclf.predict(X_test)\n",
    "from sklearn.metrics import accuracy_score, confusion_matrix\n",
    "confusion_matrix = metrics.confusion_matrix(Y_test,predicted)\n",
    "\n",
    "cm_display = metrics.ConfusionMatrixDisplay(confusion_matrix = confusion_matrix, display_labels = [False, True])\n",
    "cm_display.plot()\n",
    "plt.show()"
   ]
  },
  {
   "cell_type": "code",
   "execution_count": 71,
   "id": "310e7b62",
   "metadata": {},
   "outputs": [
    {
     "name": "stdout",
     "output_type": "stream",
     "text": [
      "Sensitivity:  0.8378378378378378\n",
      "specificity:  0.8979591836734694\n",
      "PPV:  0.8611111111111112\n",
      "NPV:  0.88\n"
     ]
    }
   ],
   "source": [
    "TN = confusion_matrix[0][0]\n",
    "FN = confusion_matrix[1][0] \n",
    "TP = confusion_matrix[1][1]\n",
    "FP = confusion_matrix[0][1]\n",
    "\n",
    "sensitivity = (TP / float(TP + FN))\n",
    "specificity = (TN / float(TN + FP))\n",
    "ppv = (TP / float(TP + FP))\n",
    "npv = (TN / float(TN + FN))\n",
    "\n",
    "print(\"Sensitivity: \",sensitivity)\n",
    "print(\"specificity: \",specificity)\n",
    "print(\"PPV: \",ppv)\n",
    "print(\"NPV: \",npv)"
   ]
  },
  {
   "cell_type": "code",
   "execution_count": 72,
   "id": "2ee9f426",
   "metadata": {},
   "outputs": [
    {
     "name": "stdout",
     "output_type": "stream",
     "text": [
      "AUROC: 0.8678985107556536\n",
      "AUPR: 0.8843581954047071\n"
     ]
    }
   ],
   "source": [
    "# AUROC and AUPR value\n",
    "y_predictProb = dclf.predict_proba(X_test)\n",
    "\n",
    "fpr, tpr, thresholds = roc_curve(Y_test, y_predictProb[::,1])\n",
    "roc_auc = auc(fpr, tpr)\n",
    "\n",
    "precision, recall, thresholds = precision_recall_curve(Y_test, y_predictProb[::,1])\n",
    "area = auc(recall, precision)\n",
    "\n",
    "print(\"AUROC:\",roc_auc)\n",
    "print(\"AUPR:\",area)"
   ]
  },
  {
   "cell_type": "code",
   "execution_count": 73,
   "id": "0cb7da1e",
   "metadata": {},
   "outputs": [
    {
     "data": {
      "text/plain": [
       "<function matplotlib.pyplot.show(close=None, block=None)>"
      ]
     },
     "execution_count": 73,
     "metadata": {},
     "output_type": "execute_result"
    },
    {
     "data": {
      "image/png": "[encoded data removed]",
      "text/plain": [
       "<Figure size 432x288 with 1 Axes>"
      ]
     },
     "metadata": {
      "needs_background": "light"
     },
     "output_type": "display_data"
    }
   ],
   "source": [
    "# AURoc graph\n",
    "\n",
    "plt.plot(fpr, tpr, color='red', label='ROC curve (area = %0.2f)' % roc_auc)\n",
    "plt.plot([0, 1], [0, 1], color='navy', linestyle='--')\n",
    "plt.xlabel('False Positive Rate')\n",
    "plt.ylabel('True Positive Rate')\n",
    "plt.title('Receiver operating characteristic')\n",
    "plt.legend(loc=\"lower right\")\n",
    "plt.show"
   ]
  },
  {
   "cell_type": "code",
   "execution_count": 74,
   "id": "c1598a82",
   "metadata": {},
   "outputs": [
    {
     "data": {
      "text/plain": [
       "<function matplotlib.pyplot.show(close=None, block=None)>"
      ]
     },
     "execution_count": 74,
     "metadata": {},
     "output_type": "execute_result"
    },
    {
     "data": {
      "image/png": "[encoded data removed]",
      "text/plain": [
       "<Figure size 432x288 with 1 Axes>"
      ]
     },
     "metadata": {
      "needs_background": "light"
     },
     "output_type": "display_data"
    }
   ],
   "source": [
    "# AUPR graph\n",
    "\n",
    "plt.plot(fpr, tpr, color='red', label='PR curve (area = %0.2f)' % area)\n",
    "plt.plot([0, 1], [0, 1], color='navy', linestyle='--')\n",
    "plt.xlabel('False Positive Rate')\n",
    "plt.ylabel('True Positive Rate')\n",
    "plt.title('Receiver operating characteristic')\n",
    "plt.legend(loc=\"lower right\")\n",
    "plt.show"
   ]
  },
  {
   "cell_type": "markdown",
   "id": "f043d1b6",
   "metadata": {},
   "source": [
    "# Gradient Boost"
   ]
  },
  {
   "cell_type": "code",
   "execution_count": 75,
   "id": "78efc0de",
   "metadata": {},
   "outputs": [
    {
     "data": {
      "text/html": [
       "<style>#sk-container-id-4 {color: black;background-color: white;}#sk-container-id-4 pre{padding: 0;}#sk-container-id-4 div.sk-toggleable {background-color: white;}#sk-container-id-4 label.sk-toggleable__label {cursor: pointer;display: block;width: 100%;margin-bottom: 0;padding: 0.3em;box-sizing: border-box;text-align: center;}#sk-container-id-4 label.sk-toggleable__label-arrow:before {content: \"▸\";float: left;margin-right: 0.25em;color: #696969;}#sk-container-id-4 label.sk-toggleable__label-arrow:hover:before {color: black;}#sk-container-id-4 div.sk-estimator:hover label.sk-toggleable__label-arrow:before {color: black;}#sk-container-id-4 div.sk-toggleable__content {max-height: 0;max-width: 0;overflow: hidden;text-align: left;background-color: #f0f8ff;}#sk-container-id-4 div.sk-toggleable__content pre {margin: 0.2em;color: black;border-radius: 0.25em;background-color: #f0f8ff;}#sk-container-id-4 input.sk-toggleable__control:checked~div.sk-toggleable__content {max-height: 200px;max-width: 100%;overflow: auto;}#sk-container-id-4 input.sk-toggleable__control:checked~label.sk-toggleable__label-arrow:before {content: \"▾\";}#sk-container-id-4 div.sk-estimator input.sk-toggleable__control:checked~label.sk-toggleable__label {background-color: #d4ebff;}#sk-container-id-4 div.sk-label input.sk-toggleable__control:checked~label.sk-toggleable__label {background-color: #d4ebff;}#sk-container-id-4 input.sk-hidden--visually {border: 0;clip: rect(1px 1px 1px 1px);clip: rect(1px, 1px, 1px, 1px);height: 1px;margin: -1px;overflow: hidden;padding: 0;position: absolute;width: 1px;}#sk-container-id-4 div.sk-estimator {font-family: monospace;background-color: #f0f8ff;border: 1px dotted black;border-radius: 0.25em;box-sizing: border-box;margin-bottom: 0.5em;}#sk-container-id-4 div.sk-estimator:hover {background-color: #d4ebff;}#sk-container-id-4 div.sk-parallel-item::after {content: \"\";width: 100%;border-bottom: 1px solid gray;flex-grow: 1;}#sk-container-id-4 div.sk-label:hover label.sk-toggleable__label {background-color: #d4ebff;}#sk-container-id-4 div.sk-serial::before {content: \"\";position: absolute;border-left: 1px solid gray;box-sizing: border-box;top: 0;bottom: 0;left: 50%;z-index: 0;}#sk-container-id-4 div.sk-serial {display: flex;flex-direction: column;align-items: center;background-color: white;padding-right: 0.2em;padding-left: 0.2em;position: relative;}#sk-container-id-4 div.sk-item {position: relative;z-index: 1;}#sk-container-id-4 div.sk-parallel {display: flex;align-items: stretch;justify-content: center;background-color: white;position: relative;}#sk-container-id-4 div.sk-item::before, #sk-container-id-4 div.sk-parallel-item::before {content: \"\";position: absolute;border-left: 1px solid gray;box-sizing: border-box;top: 0;bottom: 0;left: 50%;z-index: -1;}#sk-container-id-4 div.sk-parallel-item {display: flex;flex-direction: column;z-index: 1;position: relative;background-color: white;}#sk-container-id-4 div.sk-parallel-item:first-child::after {align-self: flex-end;width: 50%;}#sk-container-id-4 div.sk-parallel-item:last-child::after {align-self: flex-start;width: 50%;}#sk-container-id-4 div.sk-parallel-item:only-child::after {width: 0;}#sk-container-id-4 div.sk-dashed-wrapped {border: 1px dashed gray;margin: 0 0.4em 0.5em 0.4em;box-sizing: border-box;padding-bottom: 0.4em;background-color: white;}#sk-container-id-4 div.sk-label label {font-family: monospace;font-weight: bold;display: inline-block;line-height: 1.2em;}#sk-container-id-4 div.sk-label-container {text-align: center;}#sk-container-id-4 div.sk-container {/* jupyter's `normalize.less` sets `[hidden] { display: none; }` but bootstrap.min.css set `[hidden] { display: none !important; }` so we also need the `!important` here to be able to override the default hidden behavior on the sphinx rendered scikit-learn.org. See: https://github.com/scikit-learn/scikit-learn/issues/21755 */display: inline-block !important;position: relative;}#sk-container-id-4 div.sk-text-repr-fallback {display: none;}</style><div id=\"sk-container-id-4\" class=\"sk-top-container\"><div class=\"sk-text-repr-fallback\"><pre>GradientBoostingClassifier(n_estimators=10, random_state=1)</pre><b>In a Jupyter environment, please rerun this cell to show the HTML representation or trust the notebook. <br />On GitHub, the HTML representation is unable to render, please try loading this page with nbviewer.org.</b></div><div class=\"sk-container\" hidden><div class=\"sk-item\"><div class=\"sk-estimator sk-toggleable\"><input class=\"sk-toggleable__control sk-hidden--visually\" id=\"sk-estimator-id-4\" type=\"checkbox\" checked><label for=\"sk-estimator-id-4\" class=\"sk-toggleable__label sk-toggleable__label-arrow\">GradientBoostingClassifier</label><div class=\"sk-toggleable__content\"><pre>GradientBoostingClassifier(n_estimators=10, random_state=1)</pre></div></div></div></div></div>"
      ],
      "text/plain": [
       "GradientBoostingClassifier(n_estimators=10, random_state=1)"
      ]
     },
     "execution_count": 75,
     "metadata": {},
     "output_type": "execute_result"
    }
   ],
   "source": [
    "#using GradientBoost\n",
    "from sklearn.ensemble import GradientBoostingClassifier\n",
    "gdb = GradientBoostingClassifier(random_state = 1, n_estimators = 10, min_samples_split = 2)\n",
    "gdb.fit(X_train,Y_train)"
   ]
  },
  {
   "cell_type": "code",
   "execution_count": 76,
   "id": "e1eab3fe",
   "metadata": {},
   "outputs": [
    {
     "name": "stdout",
     "output_type": "stream",
     "text": [
      "0.9302325581395349\n",
      "0.8953488372093024\n"
     ]
    }
   ],
   "source": [
    "model_score2 = gdb.score(X_test, Y_test)\n",
    "model_score1 = gdb.score(X_train, Y_train)\n",
    "print(model_score1)\n",
    "print(model_score2)"
   ]
  },
  {
   "cell_type": "code",
   "execution_count": 77,
   "id": "53c9d11f",
   "metadata": {},
   "outputs": [
    {
     "data": {
      "text/plain": [
       "array([0.91428571, 0.77142857, 0.94285714, 0.88571429, 0.85294118,\n",
       "       0.91176471, 0.97058824, 0.76470588, 0.76470588, 0.88235294])"
      ]
     },
     "execution_count": 77,
     "metadata": {},
     "output_type": "execute_result"
    }
   ],
   "source": [
    "from sklearn.model_selection import cross_val_score\n",
    "from sklearn.model_selection import KFold\n",
    "from sklearn.metrics import accuracy_score\n",
    "\n",
    "k = 10\n",
    "kf = KFold(n_splits=k, random_state=None)\n",
    "result = cross_val_score(gdb , X_train, Y_train, cv = kf)\n",
    "result"
   ]
  },
  {
   "cell_type": "code",
   "execution_count": 78,
   "id": "017f9b05",
   "metadata": {},
   "outputs": [
    {
     "name": "stdout",
     "output_type": "stream",
     "text": [
      "Avg accuracy: 0.8661344537815125\n"
     ]
    }
   ],
   "source": [
    "print(\"Avg accuracy: {}\".format(result.mean()))"
   ]
  },
  {
   "cell_type": "code",
   "execution_count": 79,
   "id": "9f243650",
   "metadata": {},
   "outputs": [
    {
     "data": {
      "text/plain": [
       "array([0.88888889, 1.        , 0.88888889, 0.88888889, 0.88888889,\n",
       "       0.88888889, 0.875     , 0.875     , 0.75      , 0.875     ])"
      ]
     },
     "execution_count": 79,
     "metadata": {},
     "output_type": "execute_result"
    }
   ],
   "source": [
    "from sklearn.model_selection import cross_val_score\n",
    "from sklearn.model_selection import KFold\n",
    "from sklearn.metrics import accuracy_score\n",
    "\n",
    "k = 10\n",
    "kf = KFold(n_splits=k, random_state=None)\n",
    "result = cross_val_score(gdb , X_test, Y_test, cv = kf)\n",
    "result"
   ]
  },
  {
   "cell_type": "code",
   "execution_count": 80,
   "id": "88ec23fb",
   "metadata": {},
   "outputs": [
    {
     "name": "stdout",
     "output_type": "stream",
     "text": [
      "Avg accuracy: 0.8819444444444444\n"
     ]
    }
   ],
   "source": [
    "print(\"Avg accuracy: {}\".format(result.mean()))"
   ]
  },
  {
   "cell_type": "code",
   "execution_count": 81,
   "id": "d7a10a65",
   "metadata": {},
   "outputs": [
    {
     "data": {
      "image/png": "[encoded data removed]",
      "text/plain": [
       "<Figure size 432x288 with 2 Axes>"
      ]
     },
     "metadata": {
      "needs_background": "light"
     },
     "output_type": "display_data"
    }
   ],
   "source": [
    "# make predictions\n",
    "predicted = gdb.predict(X_test)\n",
    "from sklearn.metrics import accuracy_score, confusion_matrix\n",
    "confusion_matrix = metrics.confusion_matrix(Y_test,predicted)\n",
    "\n",
    "cm_display = metrics.ConfusionMatrixDisplay(confusion_matrix = confusion_matrix, display_labels = [False, True])\n",
    "cm_display.plot()\n",
    "plt.show()"
   ]
  },
  {
   "cell_type": "code",
   "execution_count": 82,
   "id": "f6543f00",
   "metadata": {},
   "outputs": [
    {
     "name": "stdout",
     "output_type": "stream",
     "text": [
      "Sensitivity:  0.8108108108108109\n",
      "specificity:  0.9591836734693877\n",
      "PPV:  0.9375\n",
      "NPV:  0.8703703703703703\n"
     ]
    }
   ],
   "source": [
    "TN = confusion_matrix[0][0]\n",
    "FN = confusion_matrix[1][0] \n",
    "TP = confusion_matrix[1][1]\n",
    "FP = confusion_matrix[0][1]\n",
    "\n",
    "sensitivity = (TP / float(TP + FN))\n",
    "specificity = (TN / float(TN + FP))\n",
    "ppv = (TP / float(TP + FP))\n",
    "npv = (TN / float(TN + FN))\n",
    "\n",
    "print(\"Sensitivity: \",sensitivity)\n",
    "print(\"specificity: \",specificity)\n",
    "print(\"PPV: \",ppv)\n",
    "print(\"NPV: \",npv)"
   ]
  },
  {
   "cell_type": "code",
   "execution_count": 83,
   "id": "8829ad09",
   "metadata": {},
   "outputs": [
    {
     "name": "stdout",
     "output_type": "stream",
     "text": [
      "AUROC: 0.9600110314396029\n",
      "AUPR: 0.9549898992707502\n"
     ]
    }
   ],
   "source": [
    "# AUROC and AUPR value\n",
    "y_predictProb = gdb.predict_proba(X_test)\n",
    "\n",
    "fpr, tpr, thresholds = roc_curve(Y_test, y_predictProb[::,1])\n",
    "roc_auc = auc(fpr, tpr)\n",
    "\n",
    "precision, recall, thresholds = precision_recall_curve(Y_test, y_predictProb[::,1])\n",
    "area = auc(recall, precision)\n",
    "\n",
    "print(\"AUROC:\",roc_auc)\n",
    "print(\"AUPR:\",area)"
   ]
  },
  {
   "cell_type": "code",
   "execution_count": 84,
   "id": "0ad5259b",
   "metadata": {},
   "outputs": [
    {
     "data": {
      "text/plain": [
       "<function matplotlib.pyplot.show(close=None, block=None)>"
      ]
     },
     "execution_count": 84,
     "metadata": {},
     "output_type": "execute_result"
    },
    {
     "data": {
      "image/png": "[encoded data removed]",
      "text/plain": [
       "<Figure size 432x288 with 1 Axes>"
      ]
     },
     "metadata": {
      "needs_background": "light"
     },
     "output_type": "display_data"
    }
   ],
   "source": [
    "# AURoc graph\n",
    "\n",
    "plt.plot(fpr, tpr, color='red', label='ROC curve (area = %0.2f)' % roc_auc)\n",
    "plt.plot([0, 1], [0, 1], color='navy', linestyle='--')\n",
    "plt.xlabel('False Positive Rate')\n",
    "plt.ylabel('True Positive Rate')\n",
    "plt.title('Receiver operating characteristic')\n",
    "plt.legend(loc=\"lower right\")\n",
    "plt.show"
   ]
  },
  {
   "cell_type": "code",
   "execution_count": 85,
   "id": "1443fa25",
   "metadata": {},
   "outputs": [
    {
     "data": {
      "text/plain": [
       "<function matplotlib.pyplot.show(close=None, block=None)>"
      ]
     },
     "execution_count": 85,
     "metadata": {},
     "output_type": "execute_result"
    },
    {
     "data": {
      "image/png": "[encoded data removed]",
      "text/plain": [
       "<Figure size 432x288 with 1 Axes>"
      ]
     },
     "metadata": {
      "needs_background": "light"
     },
     "output_type": "display_data"
    }
   ],
   "source": [
    "# AUPR graph\n",
    "\n",
    "plt.plot(fpr, tpr, color='red', label='PR curve (area = %0.2f)' % area)\n",
    "plt.plot([0, 1], [0, 1], color='navy', linestyle='--')\n",
    "plt.xlabel('False Positive Rate')\n",
    "plt.ylabel('True Positive Rate')\n",
    "plt.title('Receiver operating characteristic')\n",
    "plt.legend(loc=\"lower right\")\n",
    "plt.show"
   ]
  },
  {
   "cell_type": "markdown",
   "id": "c0392001",
   "metadata": {},
   "source": [
    "# XGBosst"
   ]
  },
  {
   "cell_type": "code",
   "execution_count": 86,
   "id": "7214fe0d",
   "metadata": {},
   "outputs": [
    {
     "name": "stdout",
     "output_type": "stream",
     "text": [
      "[22:37:09] WARNING: C:/Users/administrator/workspace/xgboost-win64_release_1.6.0/src/learner.cc:627: \n",
      "Parameters: { \"min_samples_split\" } might not be used.\n",
      "\n",
      "  This could be a false alarm, with some parameters getting used by language bindings but\n",
      "  then being mistakenly passed down to XGBoost core, or some parameter actually being used\n",
      "  but getting flagged wrongly here. Please open an issue if you find any such cases.\n",
      "\n",
      "\n"
     ]
    },
    {
     "data": {
      "text/html": [
       "<style>#sk-container-id-5 {color: black;background-color: white;}#sk-container-id-5 pre{padding: 0;}#sk-container-id-5 div.sk-toggleable {background-color: white;}#sk-container-id-5 label.sk-toggleable__label {cursor: pointer;display: block;width: 100%;margin-bottom: 0;padding: 0.3em;box-sizing: border-box;text-align: center;}#sk-container-id-5 label.sk-toggleable__label-arrow:before {content: \"▸\";float: left;margin-right: 0.25em;color: #696969;}#sk-container-id-5 label.sk-toggleable__label-arrow:hover:before {color: black;}#sk-container-id-5 div.sk-estimator:hover label.sk-toggleable__label-arrow:before {color: black;}#sk-container-id-5 div.sk-toggleable__content {max-height: 0;max-width: 0;overflow: hidden;text-align: left;background-color: #f0f8ff;}#sk-container-id-5 div.sk-toggleable__content pre {margin: 0.2em;color: black;border-radius: 0.25em;background-color: #f0f8ff;}#sk-container-id-5 input.sk-toggleable__control:checked~div.sk-toggleable__content {max-height: 200px;max-width: 100%;overflow: auto;}#sk-container-id-5 input.sk-toggleable__control:checked~label.sk-toggleable__label-arrow:before {content: \"▾\";}#sk-container-id-5 div.sk-estimator input.sk-toggleable__control:checked~label.sk-toggleable__label {background-color: #d4ebff;}#sk-container-id-5 div.sk-label input.sk-toggleable__control:checked~label.sk-toggleable__label {background-color: #d4ebff;}#sk-container-id-5 input.sk-hidden--visually {border: 0;clip: rect(1px 1px 1px 1px);clip: rect(1px, 1px, 1px, 1px);height: 1px;margin: -1px;overflow: hidden;padding: 0;position: absolute;width: 1px;}#sk-container-id-5 div.sk-estimator {font-family: monospace;background-color: #f0f8ff;border: 1px dotted black;border-radius: 0.25em;box-sizing: border-box;margin-bottom: 0.5em;}#sk-container-id-5 div.sk-estimator:hover {background-color: #d4ebff;}#sk-container-id-5 div.sk-parallel-item::after {content: \"\";width: 100%;border-bottom: 1px solid gray;flex-grow: 1;}#sk-container-id-5 div.sk-label:hover label.sk-toggleable__label {background-color: #d4ebff;}#sk-container-id-5 div.sk-serial::before {content: \"\";position: absolute;border-left: 1px solid gray;box-sizing: border-box;top: 0;bottom: 0;left: 50%;z-index: 0;}#sk-container-id-5 div.sk-serial {display: flex;flex-direction: column;align-items: center;background-color: white;padding-right: 0.2em;padding-left: 0.2em;position: relative;}#sk-container-id-5 div.sk-item {position: relative;z-index: 1;}#sk-container-id-5 div.sk-parallel {display: flex;align-items: stretch;justify-content: center;background-color: white;position: relative;}#sk-container-id-5 div.sk-item::before, #sk-container-id-5 div.sk-parallel-item::before {content: \"\";position: absolute;border-left: 1px solid gray;box-sizing: border-box;top: 0;bottom: 0;left: 50%;z-index: -1;}#sk-container-id-5 div.sk-parallel-item {display: flex;flex-direction: column;z-index: 1;position: relative;background-color: white;}#sk-container-id-5 div.sk-parallel-item:first-child::after {align-self: flex-end;width: 50%;}#sk-container-id-5 div.sk-parallel-item:last-child::after {align-self: flex-start;width: 50%;}#sk-container-id-5 div.sk-parallel-item:only-child::after {width: 0;}#sk-container-id-5 div.sk-dashed-wrapped {border: 1px dashed gray;margin: 0 0.4em 0.5em 0.4em;box-sizing: border-box;padding-bottom: 0.4em;background-color: white;}#sk-container-id-5 div.sk-label label {font-family: monospace;font-weight: bold;display: inline-block;line-height: 1.2em;}#sk-container-id-5 div.sk-label-container {text-align: center;}#sk-container-id-5 div.sk-container {/* jupyter's `normalize.less` sets `[hidden] { display: none; }` but bootstrap.min.css set `[hidden] { display: none !important; }` so we also need the `!important` here to be able to override the default hidden behavior on the sphinx rendered scikit-learn.org. See: https://github.com/scikit-learn/scikit-learn/issues/21755 */display: inline-block !important;position: relative;}#sk-container-id-5 div.sk-text-repr-fallback {display: none;}</style><div id=\"sk-container-id-5\" class=\"sk-top-container\"><div class=\"sk-text-repr-fallback\"><pre>XGBClassifier(base_score=0.5, booster=&#x27;gbtree&#x27;, callbacks=None,\n",
       "              colsample_bylevel=1, colsample_bynode=1, colsample_bytree=1,\n",
       "              early_stopping_rounds=None, enable_categorical=False,\n",
       "              eval_metric=None, gamma=0, gpu_id=-1, grow_policy=&#x27;depthwise&#x27;,\n",
       "              importance_type=None, interaction_constraints=&#x27;&#x27;,\n",
       "              learning_rate=0.300000012, max_bin=256, max_cat_to_onehot=4,\n",
       "              max_delta_step=0, max_depth=6, max_leaves=0, min_child_weight=1,\n",
       "              min_samples_split=3, missing=nan, monotone_constraints=&#x27;()&#x27;,\n",
       "              n_estimators=10, n_jobs=0, num_parallel_tree=1, predictor=&#x27;auto&#x27;,\n",
       "              random_state=1, reg_alpha=0, ...)</pre><b>In a Jupyter environment, please rerun this cell to show the HTML representation or trust the notebook. <br />On GitHub, the HTML representation is unable to render, please try loading this page with nbviewer.org.</b></div><div class=\"sk-container\" hidden><div class=\"sk-item\"><div class=\"sk-estimator sk-toggleable\"><input class=\"sk-toggleable__control sk-hidden--visually\" id=\"sk-estimator-id-5\" type=\"checkbox\" checked><label for=\"sk-estimator-id-5\" class=\"sk-toggleable__label sk-toggleable__label-arrow\">XGBClassifier</label><div class=\"sk-toggleable__content\"><pre>XGBClassifier(base_score=0.5, booster=&#x27;gbtree&#x27;, callbacks=None,\n",
       "              colsample_bylevel=1, colsample_bynode=1, colsample_bytree=1,\n",
       "              early_stopping_rounds=None, enable_categorical=False,\n",
       "              eval_metric=None, gamma=0, gpu_id=-1, grow_policy=&#x27;depthwise&#x27;,\n",
       "              importance_type=None, interaction_constraints=&#x27;&#x27;,\n",
       "              learning_rate=0.300000012, max_bin=256, max_cat_to_onehot=4,\n",
       "              max_delta_step=0, max_depth=6, max_leaves=0, min_child_weight=1,\n",
       "              min_samples_split=3, missing=nan, monotone_constraints=&#x27;()&#x27;,\n",
       "              n_estimators=10, n_jobs=0, num_parallel_tree=1, predictor=&#x27;auto&#x27;,\n",
       "              random_state=1, reg_alpha=0, ...)</pre></div></div></div></div></div>"
      ],
      "text/plain": [
       "XGBClassifier(base_score=0.5, booster='gbtree', callbacks=None,\n",
       "              colsample_bylevel=1, colsample_bynode=1, colsample_bytree=1,\n",
       "              early_stopping_rounds=None, enable_categorical=False,\n",
       "              eval_metric=None, gamma=0, gpu_id=-1, grow_policy='depthwise',\n",
       "              importance_type=None, interaction_constraints='',\n",
       "              learning_rate=0.300000012, max_bin=256, max_cat_to_onehot=4,\n",
       "              max_delta_step=0, max_depth=6, max_leaves=0, min_child_weight=1,\n",
       "              min_samples_split=3, missing=nan, monotone_constraints='()',\n",
       "              n_estimators=10, n_jobs=0, num_parallel_tree=1, predictor='auto',\n",
       "              random_state=1, reg_alpha=0, ...)"
      ]
     },
     "execution_count": 86,
     "metadata": {},
     "output_type": "execute_result"
    }
   ],
   "source": [
    "#using XGBClassifier\n",
    "from xgboost import XGBClassifier\n",
    "xgb_clf = XGBClassifier(random_state = 1, n_estimators = 10, min_samples_split = 3)\n",
    "xgb_clf.fit(X_train, Y_train)"
   ]
  },
  {
   "cell_type": "code",
   "execution_count": 87,
   "id": "9262814a",
   "metadata": {},
   "outputs": [
    {
     "name": "stdout",
     "output_type": "stream",
     "text": [
      "0.9883720930232558\n",
      "0.8953488372093024\n"
     ]
    }
   ],
   "source": [
    "model_score2 = xgb_clf.score(X_test, Y_test)\n",
    "model_score1 = xgb_clf.score(X_train, Y_train)\n",
    "print(model_score1)\n",
    "print(model_score2)"
   ]
  },
  {
   "cell_type": "code",
   "execution_count": 88,
   "id": "8899d485",
   "metadata": {},
   "outputs": [
    {
     "name": "stdout",
     "output_type": "stream",
     "text": [
      "[22:37:09] WARNING: C:/Users/administrator/workspace/xgboost-win64_release_1.6.0/src/learner.cc:627: \n",
      "Parameters: { \"min_samples_split\" } might not be used.\n",
      "\n",
      "  This could be a false alarm, with some parameters getting used by language bindings but\n",
      "  then being mistakenly passed down to XGBoost core, or some parameter actually being used\n",
      "  but getting flagged wrongly here. Please open an issue if you find any such cases.\n",
      "\n",
      "\n",
      "[22:37:09] WARNING: C:/Users/administrator/workspace/xgboost-win64_release_1.6.0/src/learner.cc:627: \n",
      "Parameters: { \"min_samples_split\" } might not be used.\n",
      "\n",
      "  This could be a false alarm, with some parameters getting used by language bindings but\n",
      "  then being mistakenly passed down to XGBoost core, or some parameter actually being used\n",
      "  but getting flagged wrongly here. Please open an issue if you find any such cases.\n",
      "\n",
      "\n",
      "[22:37:09] WARNING: C:/Users/administrator/workspace/xgboost-win64_release_1.6.0/src/learner.cc:627: \n",
      "Parameters: { \"min_samples_split\" } might not be used.\n",
      "\n",
      "  This could be a false alarm, with some parameters getting used by language bindings but\n",
      "  then being mistakenly passed down to XGBoost core, or some parameter actually being used\n",
      "  but getting flagged wrongly here. Please open an issue if you find any such cases.\n",
      "\n",
      "\n",
      "[22:37:09] WARNING: C:/Users/administrator/workspace/xgboost-win64_release_1.6.0/src/learner.cc:627: \n",
      "Parameters: { \"min_samples_split\" } might not be used.\n",
      "\n",
      "  This could be a false alarm, with some parameters getting used by language bindings but\n",
      "  then being mistakenly passed down to XGBoost core, or some parameter actually being used\n",
      "  but getting flagged wrongly here. Please open an issue if you find any such cases.\n",
      "\n",
      "\n",
      "[22:37:09] WARNING: C:/Users/administrator/workspace/xgboost-win64_release_1.6.0/src/learner.cc:627: \n",
      "Parameters: { \"min_samples_split\" } might not be used.\n",
      "\n",
      "  This could be a false alarm, with some parameters getting used by language bindings but\n",
      "  then being mistakenly passed down to XGBoost core, or some parameter actually being used\n",
      "  but getting flagged wrongly here. Please open an issue if you find any such cases.\n",
      "\n",
      "\n",
      "[22:37:09] WARNING: C:/Users/administrator/workspace/xgboost-win64_release_1.6.0/src/learner.cc:627: \n",
      "Parameters: { \"min_samples_split\" } might not be used.\n",
      "\n",
      "  This could be a false alarm, with some parameters getting used by language bindings but\n",
      "  then being mistakenly passed down to XGBoost core, or some parameter actually being used\n",
      "  but getting flagged wrongly here. Please open an issue if you find any such cases.\n",
      "\n",
      "\n",
      "[22:37:09] WARNING: C:/Users/administrator/workspace/xgboost-win64_release_1.6.0/src/learner.cc:627: \n",
      "Parameters: { \"min_samples_split\" } might not be used.\n",
      "\n",
      "  This could be a false alarm, with some parameters getting used by language bindings but\n",
      "  then being mistakenly passed down to XGBoost core, or some parameter actually being used\n",
      "  but getting flagged wrongly here. Please open an issue if you find any such cases.\n",
      "\n",
      "\n",
      "[22:37:09] WARNING: C:/Users/administrator/workspace/xgboost-win64_release_1.6.0/src/learner.cc:627: \n",
      "Parameters: { \"min_samples_split\" } might not be used.\n",
      "\n",
      "  This could be a false alarm, with some parameters getting used by language bindings but\n",
      "  then being mistakenly passed down to XGBoost core, or some parameter actually being used\n",
      "  but getting flagged wrongly here. Please open an issue if you find any such cases.\n",
      "\n",
      "\n",
      "[22:37:10] WARNING: C:/Users/administrator/workspace/xgboost-win64_release_1.6.0/src/learner.cc:627: \n",
      "Parameters: { \"min_samples_split\" } might not be used.\n",
      "\n",
      "  This could be a false alarm, with some parameters getting used by language bindings but\n",
      "  then being mistakenly passed down to XGBoost core, or some parameter actually being used\n",
      "  but getting flagged wrongly here. Please open an issue if you find any such cases.\n",
      "\n",
      "\n",
      "[22:37:10] WARNING: C:/Users/administrator/workspace/xgboost-win64_release_1.6.0/src/learner.cc:627: \n",
      "Parameters: { \"min_samples_split\" } might not be used.\n",
      "\n",
      "  This could be a false alarm, with some parameters getting used by language bindings but\n",
      "  then being mistakenly passed down to XGBoost core, or some parameter actually being used\n",
      "  but getting flagged wrongly here. Please open an issue if you find any such cases.\n",
      "\n",
      "\n"
     ]
    },
    {
     "data": {
      "text/plain": [
       "array([0.91428571, 0.8       , 0.94285714, 0.91428571, 0.85294118,\n",
       "       0.94117647, 0.94117647, 0.82352941, 0.79411765, 0.85294118])"
      ]
     },
     "execution_count": 88,
     "metadata": {},
     "output_type": "execute_result"
    }
   ],
   "source": [
    "from sklearn.model_selection import cross_val_score\n",
    "from sklearn.model_selection import KFold\n",
    "from sklearn.metrics import accuracy_score\n",
    "\n",
    "k = 10\n",
    "kf = KFold(n_splits=k, random_state=None)\n",
    "result = cross_val_score(xgb_clf , X_train, Y_train, cv = kf)\n",
    "result\n"
   ]
  },
  {
   "cell_type": "code",
   "execution_count": 89,
   "id": "46f00b1e",
   "metadata": {},
   "outputs": [
    {
     "name": "stdout",
     "output_type": "stream",
     "text": [
      "Avg accuracy: 0.8777310924369747\n"
     ]
    }
   ],
   "source": [
    "print(\"Avg accuracy: {}\".format(result.mean()))"
   ]
  },
  {
   "cell_type": "code",
   "execution_count": 90,
   "id": "9140a936",
   "metadata": {},
   "outputs": [
    {
     "name": "stdout",
     "output_type": "stream",
     "text": [
      "[22:37:10] WARNING: C:/Users/administrator/workspace/xgboost-win64_release_1.6.0/src/learner.cc:627: \n",
      "Parameters: { \"min_samples_split\" } might not be used.\n",
      "\n",
      "  This could be a false alarm, with some parameters getting used by language bindings but\n",
      "  then being mistakenly passed down to XGBoost core, or some parameter actually being used\n",
      "  but getting flagged wrongly here. Please open an issue if you find any such cases.\n",
      "\n",
      "\n",
      "[22:37:10] WARNING: C:/Users/administrator/workspace/xgboost-win64_release_1.6.0/src/learner.cc:627: \n",
      "Parameters: { \"min_samples_split\" } might not be used.\n",
      "\n",
      "  This could be a false alarm, with some parameters getting used by language bindings but\n",
      "  then being mistakenly passed down to XGBoost core, or some parameter actually being used\n",
      "  but getting flagged wrongly here. Please open an issue if you find any such cases.\n",
      "\n",
      "\n",
      "[22:37:10] WARNING: C:/Users/administrator/workspace/xgboost-win64_release_1.6.0/src/learner.cc:627: \n",
      "Parameters: { \"min_samples_split\" } might not be used.\n",
      "\n",
      "  This could be a false alarm, with some parameters getting used by language bindings but\n",
      "  then being mistakenly passed down to XGBoost core, or some parameter actually being used\n",
      "  but getting flagged wrongly here. Please open an issue if you find any such cases.\n",
      "\n",
      "\n",
      "[22:37:10] WARNING: C:/Users/administrator/workspace/xgboost-win64_release_1.6.0/src/learner.cc:627: \n",
      "Parameters: { \"min_samples_split\" } might not be used.\n",
      "\n",
      "  This could be a false alarm, with some parameters getting used by language bindings but\n",
      "  then being mistakenly passed down to XGBoost core, or some parameter actually being used\n",
      "  but getting flagged wrongly here. Please open an issue if you find any such cases.\n",
      "\n",
      "\n",
      "[22:37:10] WARNING: C:/Users/administrator/workspace/xgboost-win64_release_1.6.0/src/learner.cc:627: \n",
      "Parameters: { \"min_samples_split\" } might not be used.\n",
      "\n",
      "  This could be a false alarm, with some parameters getting used by language bindings but\n",
      "  then being mistakenly passed down to XGBoost core, or some parameter actually being used\n",
      "  but getting flagged wrongly here. Please open an issue if you find any such cases.\n",
      "\n",
      "\n",
      "[22:37:10] WARNING: C:/Users/administrator/workspace/xgboost-win64_release_1.6.0/src/learner.cc:627: \n",
      "Parameters: { \"min_samples_split\" } might not be used.\n",
      "\n",
      "  This could be a false alarm, with some parameters getting used by language bindings but\n",
      "  then being mistakenly passed down to XGBoost core, or some parameter actually being used\n",
      "  but getting flagged wrongly here. Please open an issue if you find any such cases.\n",
      "\n",
      "\n",
      "[22:37:10] WARNING: C:/Users/administrator/workspace/xgboost-win64_release_1.6.0/src/learner.cc:627: \n",
      "Parameters: { \"min_samples_split\" } might not be used.\n",
      "\n",
      "  This could be a false alarm, with some parameters getting used by language bindings but\n",
      "  then being mistakenly passed down to XGBoost core, or some parameter actually being used\n",
      "  but getting flagged wrongly here. Please open an issue if you find any such cases.\n",
      "\n",
      "\n",
      "[22:37:10] WARNING: C:/Users/administrator/workspace/xgboost-win64_release_1.6.0/src/learner.cc:627: \n",
      "Parameters: { \"min_samples_split\" } might not be used.\n",
      "\n",
      "  This could be a false alarm, with some parameters getting used by language bindings but\n",
      "  then being mistakenly passed down to XGBoost core, or some parameter actually being used\n",
      "  but getting flagged wrongly here. Please open an issue if you find any such cases.\n",
      "\n",
      "\n",
      "[22:37:10] WARNING: C:/Users/administrator/workspace/xgboost-win64_release_1.6.0/src/learner.cc:627: \n",
      "Parameters: { \"min_samples_split\" } might not be used.\n",
      "\n",
      "  This could be a false alarm, with some parameters getting used by language bindings but\n",
      "  then being mistakenly passed down to XGBoost core, or some parameter actually being used\n",
      "  but getting flagged wrongly here. Please open an issue if you find any such cases.\n",
      "\n",
      "\n",
      "[22:37:10] WARNING: C:/Users/administrator/workspace/xgboost-win64_release_1.6.0/src/learner.cc:627: \n",
      "Parameters: { \"min_samples_split\" } might not be used.\n",
      "\n",
      "  This could be a false alarm, with some parameters getting used by language bindings but\n",
      "  then being mistakenly passed down to XGBoost core, or some parameter actually being used\n",
      "  but getting flagged wrongly here. Please open an issue if you find any such cases.\n",
      "\n",
      "\n"
     ]
    },
    {
     "data": {
      "text/plain": [
       "array([0.88888889, 1.        , 0.88888889, 0.88888889, 0.88888889,\n",
       "       1.        , 0.75      , 0.875     , 0.75      , 0.875     ])"
      ]
     },
     "execution_count": 90,
     "metadata": {},
     "output_type": "execute_result"
    }
   ],
   "source": [
    "from sklearn.model_selection import cross_val_score\n",
    "from sklearn.model_selection import KFold\n",
    "from sklearn.metrics import accuracy_score\n",
    "\n",
    "k = 10\n",
    "kf = KFold(n_splits=k, random_state=None)\n",
    "result = cross_val_score(xgb_clf , X_test, Y_test, cv = kf)\n",
    "result"
   ]
  },
  {
   "cell_type": "code",
   "execution_count": 91,
   "id": "4bc18191",
   "metadata": {},
   "outputs": [
    {
     "name": "stdout",
     "output_type": "stream",
     "text": [
      "Avg accuracy: 0.8805555555555555\n"
     ]
    }
   ],
   "source": [
    "print(\"Avg accuracy: {}\".format(result.mean()))"
   ]
  },
  {
   "cell_type": "code",
   "execution_count": 92,
   "id": "976dd900",
   "metadata": {},
   "outputs": [
    {
     "data": {
      "image/png": "[encoded data removed]",
      "text/plain": [
       "<Figure size 432x288 with 2 Axes>"
      ]
     },
     "metadata": {
      "needs_background": "light"
     },
     "output_type": "display_data"
    }
   ],
   "source": [
    "# make predictions\n",
    "predicted = xgb_clf.predict(X_test)\n",
    "from sklearn.metrics import accuracy_score, confusion_matrix\n",
    "confusion_matrix = metrics.confusion_matrix(Y_test,predicted)\n",
    "\n",
    "cm_display = metrics.ConfusionMatrixDisplay(confusion_matrix = confusion_matrix, display_labels = [False, True])\n",
    "cm_display.plot()\n",
    "plt.show()"
   ]
  },
  {
   "cell_type": "code",
   "execution_count": 93,
   "id": "8649c9e5",
   "metadata": {},
   "outputs": [
    {
     "name": "stdout",
     "output_type": "stream",
     "text": [
      "Sensitivity:  0.8918918918918919\n",
      "specificity:  0.8979591836734694\n",
      "PPV:  0.868421052631579\n",
      "NPV:  0.9166666666666666\n"
     ]
    }
   ],
   "source": [
    "TN = confusion_matrix[0][0]\n",
    "FN = confusion_matrix[1][0] \n",
    "TP = confusion_matrix[1][1]\n",
    "FP = confusion_matrix[0][1]\n",
    "\n",
    "sensitivity = (TP / float(TP + FN))\n",
    "specificity = (TN / float(TN + FP))\n",
    "ppv = (TP / float(TP + FP))\n",
    "npv = (TN / float(TN + FN))\n",
    "\n",
    "print(\"Sensitivity: \",sensitivity)\n",
    "print(\"specificity: \",specificity)\n",
    "print(\"PPV: \",ppv)\n",
    "print(\"NPV: \",npv)"
   ]
  },
  {
   "cell_type": "code",
   "execution_count": 94,
   "id": "e403b37b",
   "metadata": {},
   "outputs": [
    {
     "name": "stdout",
     "output_type": "stream",
     "text": [
      "AUROC: 0.9685603971318257\n",
      "AUPR: 0.961176054501424\n"
     ]
    }
   ],
   "source": [
    "# AUROC and AUPR value\n",
    "y_predictProb = xgb_clf.predict_proba(X_test)\n",
    "\n",
    "fpr, tpr, thresholds = roc_curve(Y_test, y_predictProb[::,1])\n",
    "roc_auc = auc(fpr, tpr)\n",
    "\n",
    "precision, recall, thresholds = precision_recall_curve(Y_test, y_predictProb[::,1])\n",
    "area = auc(recall, precision)\n",
    "\n",
    "print(\"AUROC:\",roc_auc)\n",
    "print(\"AUPR:\",area)"
   ]
  },
  {
   "cell_type": "code",
   "execution_count": 95,
   "id": "8c391a69",
   "metadata": {},
   "outputs": [
    {
     "data": {
      "text/plain": [
       "<function matplotlib.pyplot.show(close=None, block=None)>"
      ]
     },
     "execution_count": 95,
     "metadata": {},
     "output_type": "execute_result"
    },
    {
     "data": {
      "image/png": "[encoded data removed]",
      "text/plain": [
       "<Figure size 432x288 with 1 Axes>"
      ]
     },
     "metadata": {
      "needs_background": "light"
     },
     "output_type": "display_data"
    }
   ],
   "source": [
    "# AURoc graph\n",
    "\n",
    "plt.plot(fpr, tpr, color='red', label='ROC curve (area = %0.2f)' % roc_auc)\n",
    "plt.plot([0, 1], [0, 1], color='navy', linestyle='--')\n",
    "plt.xlabel('False Positive Rate')\n",
    "plt.ylabel('True Positive Rate')\n",
    "plt.title('Receiver operating characteristic')\n",
    "plt.legend(loc=\"lower right\")\n",
    "plt.show"
   ]
  },
  {
   "cell_type": "code",
   "execution_count": 96,
   "id": "a2c9ffcd",
   "metadata": {},
   "outputs": [
    {
     "data": {
      "text/plain": [
       "<function matplotlib.pyplot.show(close=None, block=None)>"
      ]
     },
     "execution_count": 96,
     "metadata": {},
     "output_type": "execute_result"
    },
    {
     "data": {
      "image/png": "[encoded data removed]",
      "text/plain": [
       "<Figure size 432x288 with 1 Axes>"
      ]
     },
     "metadata": {
      "needs_background": "light"
     },
     "output_type": "display_data"
    }
   ],
   "source": [
    "# AUPR graph\n",
    "\n",
    "plt.plot(fpr, tpr, color='red', label='PR curve (area = %0.2f)' % area)\n",
    "plt.plot([0, 1], [0, 1], color='navy', linestyle='--')\n",
    "plt.xlabel('False Positive Rate')\n",
    "plt.ylabel('True Positive Rate')\n",
    "plt.title('Receiver operating characteristic')\n",
    "plt.legend(loc=\"lower right\")\n",
    "plt.show"
   ]
  },
  {
   "cell_type": "markdown",
   "id": "b5405952",
   "metadata": {},
   "source": [
    "# Support Vector"
   ]
  },
  {
   "cell_type": "code",
   "execution_count": 97,
   "id": "99e2a04a",
   "metadata": {},
   "outputs": [
    {
     "data": {
      "text/html": [
       "<style>#sk-container-id-6 {color: black;background-color: white;}#sk-container-id-6 pre{padding: 0;}#sk-container-id-6 div.sk-toggleable {background-color: white;}#sk-container-id-6 label.sk-toggleable__label {cursor: pointer;display: block;width: 100%;margin-bottom: 0;padding: 0.3em;box-sizing: border-box;text-align: center;}#sk-container-id-6 label.sk-toggleable__label-arrow:before {content: \"▸\";float: left;margin-right: 0.25em;color: #696969;}#sk-container-id-6 label.sk-toggleable__label-arrow:hover:before {color: black;}#sk-container-id-6 div.sk-estimator:hover label.sk-toggleable__label-arrow:before {color: black;}#sk-container-id-6 div.sk-toggleable__content {max-height: 0;max-width: 0;overflow: hidden;text-align: left;background-color: #f0f8ff;}#sk-container-id-6 div.sk-toggleable__content pre {margin: 0.2em;color: black;border-radius: 0.25em;background-color: #f0f8ff;}#sk-container-id-6 input.sk-toggleable__control:checked~div.sk-toggleable__content {max-height: 200px;max-width: 100%;overflow: auto;}#sk-container-id-6 input.sk-toggleable__control:checked~label.sk-toggleable__label-arrow:before {content: \"▾\";}#sk-container-id-6 div.sk-estimator input.sk-toggleable__control:checked~label.sk-toggleable__label {background-color: #d4ebff;}#sk-container-id-6 div.sk-label input.sk-toggleable__control:checked~label.sk-toggleable__label {background-color: #d4ebff;}#sk-container-id-6 input.sk-hidden--visually {border: 0;clip: rect(1px 1px 1px 1px);clip: rect(1px, 1px, 1px, 1px);height: 1px;margin: -1px;overflow: hidden;padding: 0;position: absolute;width: 1px;}#sk-container-id-6 div.sk-estimator {font-family: monospace;background-color: #f0f8ff;border: 1px dotted black;border-radius: 0.25em;box-sizing: border-box;margin-bottom: 0.5em;}#sk-container-id-6 div.sk-estimator:hover {background-color: #d4ebff;}#sk-container-id-6 div.sk-parallel-item::after {content: \"\";width: 100%;border-bottom: 1px solid gray;flex-grow: 1;}#sk-container-id-6 div.sk-label:hover label.sk-toggleable__label {background-color: #d4ebff;}#sk-container-id-6 div.sk-serial::before {content: \"\";position: absolute;border-left: 1px solid gray;box-sizing: border-box;top: 0;bottom: 0;left: 50%;z-index: 0;}#sk-container-id-6 div.sk-serial {display: flex;flex-direction: column;align-items: center;background-color: white;padding-right: 0.2em;padding-left: 0.2em;position: relative;}#sk-container-id-6 div.sk-item {position: relative;z-index: 1;}#sk-container-id-6 div.sk-parallel {display: flex;align-items: stretch;justify-content: center;background-color: white;position: relative;}#sk-container-id-6 div.sk-item::before, #sk-container-id-6 div.sk-parallel-item::before {content: \"\";position: absolute;border-left: 1px solid gray;box-sizing: border-box;top: 0;bottom: 0;left: 50%;z-index: -1;}#sk-container-id-6 div.sk-parallel-item {display: flex;flex-direction: column;z-index: 1;position: relative;background-color: white;}#sk-container-id-6 div.sk-parallel-item:first-child::after {align-self: flex-end;width: 50%;}#sk-container-id-6 div.sk-parallel-item:last-child::after {align-self: flex-start;width: 50%;}#sk-container-id-6 div.sk-parallel-item:only-child::after {width: 0;}#sk-container-id-6 div.sk-dashed-wrapped {border: 1px dashed gray;margin: 0 0.4em 0.5em 0.4em;box-sizing: border-box;padding-bottom: 0.4em;background-color: white;}#sk-container-id-6 div.sk-label label {font-family: monospace;font-weight: bold;display: inline-block;line-height: 1.2em;}#sk-container-id-6 div.sk-label-container {text-align: center;}#sk-container-id-6 div.sk-container {/* jupyter's `normalize.less` sets `[hidden] { display: none; }` but bootstrap.min.css set `[hidden] { display: none !important; }` so we also need the `!important` here to be able to override the default hidden behavior on the sphinx rendered scikit-learn.org. See: https://github.com/scikit-learn/scikit-learn/issues/21755 */display: inline-block !important;position: relative;}#sk-container-id-6 div.sk-text-repr-fallback {display: none;}</style><div id=\"sk-container-id-6\" class=\"sk-top-container\"><div class=\"sk-text-repr-fallback\"><pre>SVC()</pre><b>In a Jupyter environment, please rerun this cell to show the HTML representation or trust the notebook. <br />On GitHub, the HTML representation is unable to render, please try loading this page with nbviewer.org.</b></div><div class=\"sk-container\" hidden><div class=\"sk-item\"><div class=\"sk-estimator sk-toggleable\"><input class=\"sk-toggleable__control sk-hidden--visually\" id=\"sk-estimator-id-6\" type=\"checkbox\" checked><label for=\"sk-estimator-id-6\" class=\"sk-toggleable__label sk-toggleable__label-arrow\">SVC</label><div class=\"sk-toggleable__content\"><pre>SVC()</pre></div></div></div></div></div>"
      ],
      "text/plain": [
       "SVC()"
      ]
     },
     "execution_count": 97,
     "metadata": {},
     "output_type": "execute_result"
    }
   ],
   "source": [
    "#using support vector\n",
    "from sklearn import svm\n",
    "sv_clf = svm.SVC()\n",
    "sv_clf.fit(X_train, Y_train)"
   ]
  },
  {
   "cell_type": "code",
   "execution_count": 98,
   "id": "d5281fd8",
   "metadata": {},
   "outputs": [
    {
     "name": "stdout",
     "output_type": "stream",
     "text": [
      "0.7325581395348837\n",
      "0.7790697674418605\n"
     ]
    }
   ],
   "source": [
    "model_score2 = sv_clf.score(X_test, Y_test)\n",
    "model_score1 = sv_clf.score(X_train, Y_train)\n",
    "print(model_score1)\n",
    "print(model_score2)"
   ]
  },
  {
   "cell_type": "code",
   "execution_count": 99,
   "id": "8e68fd96",
   "metadata": {},
   "outputs": [
    {
     "data": {
      "text/plain": [
       "array([0.74285714, 0.71428571, 0.68571429, 0.74285714, 0.76470588,\n",
       "       0.76470588, 0.64705882, 0.82352941, 0.73529412, 0.64705882])"
      ]
     },
     "execution_count": 99,
     "metadata": {},
     "output_type": "execute_result"
    }
   ],
   "source": [
    "from sklearn.model_selection import cross_val_score\n",
    "from sklearn.model_selection import KFold\n",
    "from sklearn.metrics import accuracy_score\n",
    "\n",
    "k = 10\n",
    "kf = KFold(n_splits=k, random_state=None)\n",
    "result = cross_val_score(sv_clf , X_train, Y_train, cv = kf)\n",
    "result\n"
   ]
  },
  {
   "cell_type": "code",
   "execution_count": 100,
   "id": "27441f03",
   "metadata": {},
   "outputs": [
    {
     "name": "stdout",
     "output_type": "stream",
     "text": [
      "Avg accuracy: 0.7268067226890758\n"
     ]
    }
   ],
   "source": [
    "print(\"Avg accuracy: {}\".format(result.mean()))"
   ]
  },
  {
   "cell_type": "code",
   "execution_count": 101,
   "id": "a87e54f7",
   "metadata": {},
   "outputs": [
    {
     "data": {
      "text/plain": [
       "array([0.77777778, 0.88888889, 0.77777778, 0.77777778, 0.66666667,\n",
       "       0.55555556, 0.875     , 0.75      , 0.625     , 0.625     ])"
      ]
     },
     "execution_count": 101,
     "metadata": {},
     "output_type": "execute_result"
    }
   ],
   "source": [
    "from sklearn.model_selection import cross_val_score\n",
    "from sklearn.model_selection import KFold\n",
    "from sklearn.metrics import accuracy_score\n",
    "\n",
    "k = 10\n",
    "kf = KFold(n_splits=k, random_state=None)\n",
    "result = cross_val_score(sv_clf , X_test, Y_test, cv = kf)\n",
    "result"
   ]
  },
  {
   "cell_type": "code",
   "execution_count": 102,
   "id": "6180517c",
   "metadata": {},
   "outputs": [
    {
     "name": "stdout",
     "output_type": "stream",
     "text": [
      "Avg accuracy: 0.7319444444444445\n"
     ]
    }
   ],
   "source": [
    "print(\"Avg accuracy: {}\".format(result.mean()))"
   ]
  },
  {
   "cell_type": "code",
   "execution_count": 103,
   "id": "ddaa509b",
   "metadata": {},
   "outputs": [
    {
     "data": {
      "image/png": "[encoded data removed]",
      "text/plain": [
       "<Figure size 432x288 with 2 Axes>"
      ]
     },
     "metadata": {
      "needs_background": "light"
     },
     "output_type": "display_data"
    }
   ],
   "source": [
    "# make predictions\n",
    "predicted = sv_clf.predict(X_test)\n",
    "from sklearn.metrics import accuracy_score, confusion_matrix\n",
    "confusion_matrix = metrics.confusion_matrix(Y_test,predicted)\n",
    "\n",
    "cm_display = metrics.ConfusionMatrixDisplay(confusion_matrix = confusion_matrix, display_labels = [False, True])\n",
    "cm_display.plot()\n",
    "plt.show()"
   ]
  },
  {
   "cell_type": "code",
   "execution_count": 104,
   "id": "c4a16e29",
   "metadata": {},
   "outputs": [
    {
     "name": "stdout",
     "output_type": "stream",
     "text": [
      "Sensitivity:  0.6756756756756757\n",
      "specificity:  0.8571428571428571\n",
      "PPV:  0.78125\n",
      "NPV:  0.7777777777777778\n"
     ]
    }
   ],
   "source": [
    "TN = confusion_matrix[0][0]\n",
    "FN = confusion_matrix[1][0] \n",
    "TP = confusion_matrix[1][1]\n",
    "FP = confusion_matrix[0][1]\n",
    "\n",
    "sensitivity = (TP / float(TP + FN))\n",
    "specificity = (TN / float(TN + FP))\n",
    "ppv = (TP / float(TP + FP))\n",
    "npv = (TN / float(TN + FN))\n",
    "\n",
    "print(\"Sensitivity: \",sensitivity)\n",
    "print(\"specificity: \",specificity)\n",
    "print(\"PPV: \",ppv)\n",
    "print(\"NPV: \",npv)"
   ]
  },
  {
   "cell_type": "code",
   "execution_count": 105,
   "id": "09ad0595",
   "metadata": {},
   "outputs": [
    {
     "ename": "AttributeError",
     "evalue": "predict_proba is not available when  probability=False",
     "output_type": "error",
     "traceback": [
      "\u001b[1;31m---------------------------------------------------------------------------\u001b[0m",
      "\u001b[1;31mAttributeError\u001b[0m                            Traceback (most recent call last)",
      "\u001b[1;32m~\\AppData\\Local\\Temp/ipykernel_10996/1056974714.py\u001b[0m in \u001b[0;36m<module>\u001b[1;34m\u001b[0m\n\u001b[0;32m      1\u001b[0m \u001b[1;31m# AUROC and AUPR value\u001b[0m\u001b[1;33m\u001b[0m\u001b[1;33m\u001b[0m\u001b[0m\n\u001b[1;32m----> 2\u001b[1;33m \u001b[0my_predictProb\u001b[0m \u001b[1;33m=\u001b[0m \u001b[0msv_clf\u001b[0m\u001b[1;33m.\u001b[0m\u001b[0mpredict_proba\u001b[0m\u001b[1;33m(\u001b[0m\u001b[0mX_test\u001b[0m\u001b[1;33m)\u001b[0m\u001b[1;33m\u001b[0m\u001b[1;33m\u001b[0m\u001b[0m\n\u001b[0m\u001b[0;32m      3\u001b[0m \u001b[1;33m\u001b[0m\u001b[0m\n\u001b[0;32m      4\u001b[0m \u001b[0mfpr\u001b[0m\u001b[1;33m,\u001b[0m \u001b[0mtpr\u001b[0m\u001b[1;33m,\u001b[0m \u001b[0mthresholds\u001b[0m \u001b[1;33m=\u001b[0m \u001b[0mroc_curve\u001b[0m\u001b[1;33m(\u001b[0m\u001b[0mY_test\u001b[0m\u001b[1;33m,\u001b[0m \u001b[0my_predictProb\u001b[0m\u001b[1;33m[\u001b[0m\u001b[1;33m:\u001b[0m\u001b[1;33m:\u001b[0m\u001b[1;33m,\u001b[0m\u001b[1;36m1\u001b[0m\u001b[1;33m]\u001b[0m\u001b[1;33m)\u001b[0m\u001b[1;33m\u001b[0m\u001b[1;33m\u001b[0m\u001b[0m\n\u001b[0;32m      5\u001b[0m \u001b[0mroc_auc\u001b[0m \u001b[1;33m=\u001b[0m \u001b[0mauc\u001b[0m\u001b[1;33m(\u001b[0m\u001b[0mfpr\u001b[0m\u001b[1;33m,\u001b[0m \u001b[0mtpr\u001b[0m\u001b[1;33m)\u001b[0m\u001b[1;33m\u001b[0m\u001b[1;33m\u001b[0m\u001b[0m\n",
      "\u001b[1;32mC:\\ProgramData\\Anaconda3\\lib\\site-packages\\sklearn\\utils\\metaestimators.py\u001b[0m in \u001b[0;36m__get__\u001b[1;34m(self, obj, owner)\u001b[0m\n\u001b[0;32m    125\u001b[0m             \u001b[1;31m# delegate only on instances, not the classes.\u001b[0m\u001b[1;33m\u001b[0m\u001b[1;33m\u001b[0m\u001b[0m\n\u001b[0;32m    126\u001b[0m             \u001b[1;31m# this is to allow access to the docstrings.\u001b[0m\u001b[1;33m\u001b[0m\u001b[1;33m\u001b[0m\u001b[0m\n\u001b[1;32m--> 127\u001b[1;33m             \u001b[1;32mif\u001b[0m \u001b[1;32mnot\u001b[0m \u001b[0mself\u001b[0m\u001b[1;33m.\u001b[0m\u001b[0mcheck\u001b[0m\u001b[1;33m(\u001b[0m\u001b[0mobj\u001b[0m\u001b[1;33m)\u001b[0m\u001b[1;33m:\u001b[0m\u001b[1;33m\u001b[0m\u001b[1;33m\u001b[0m\u001b[0m\n\u001b[0m\u001b[0;32m    128\u001b[0m                 \u001b[1;32mraise\u001b[0m \u001b[0mattr_err\u001b[0m\u001b[1;33m\u001b[0m\u001b[1;33m\u001b[0m\u001b[0m\n\u001b[0;32m    129\u001b[0m             \u001b[0mout\u001b[0m \u001b[1;33m=\u001b[0m \u001b[0mMethodType\u001b[0m\u001b[1;33m(\u001b[0m\u001b[0mself\u001b[0m\u001b[1;33m.\u001b[0m\u001b[0mfn\u001b[0m\u001b[1;33m,\u001b[0m \u001b[0mobj\u001b[0m\u001b[1;33m)\u001b[0m\u001b[1;33m\u001b[0m\u001b[1;33m\u001b[0m\u001b[0m\n",
      "\u001b[1;32mC:\\ProgramData\\Anaconda3\\lib\\site-packages\\sklearn\\svm\\_base.py\u001b[0m in \u001b[0;36m_check_proba\u001b[1;34m(self)\u001b[0m\n\u001b[0;32m    817\u001b[0m     \u001b[1;32mdef\u001b[0m \u001b[0m_check_proba\u001b[0m\u001b[1;33m(\u001b[0m\u001b[0mself\u001b[0m\u001b[1;33m)\u001b[0m\u001b[1;33m:\u001b[0m\u001b[1;33m\u001b[0m\u001b[1;33m\u001b[0m\u001b[0m\n\u001b[0;32m    818\u001b[0m         \u001b[1;32mif\u001b[0m \u001b[1;32mnot\u001b[0m \u001b[0mself\u001b[0m\u001b[1;33m.\u001b[0m\u001b[0mprobability\u001b[0m\u001b[1;33m:\u001b[0m\u001b[1;33m\u001b[0m\u001b[1;33m\u001b[0m\u001b[0m\n\u001b[1;32m--> 819\u001b[1;33m             raise AttributeError(\n\u001b[0m\u001b[0;32m    820\u001b[0m                 \u001b[1;34m\"predict_proba is not available when  probability=False\"\u001b[0m\u001b[1;33m\u001b[0m\u001b[1;33m\u001b[0m\u001b[0m\n\u001b[0;32m    821\u001b[0m             )\n",
      "\u001b[1;31mAttributeError\u001b[0m: predict_proba is not available when  probability=False"
     ]
    }
   ],
   "source": [
    "# AUROC and AUPR value\n",
    "y_predictProb = sv_clf.predict_proba(X_test)\n",
    "\n",
    "fpr, tpr, thresholds = roc_curve(Y_test, y_predictProb[::,1])\n",
    "roc_auc = auc(fpr, tpr)\n",
    "\n",
    "precision, recall, thresholds = precision_recall_curve(Y_test, y_predictProb[::,1])\n",
    "area = auc(recall, precision)\n",
    "\n",
    "print(\"AUROC:\",roc_auc)\n",
    "print(\"AUPR:\",area)"
   ]
  },
  {
   "cell_type": "code",
   "execution_count": null,
   "id": "13e9567b",
   "metadata": {},
   "outputs": [],
   "source": [
    "# AURoc graph\n",
    "\n",
    "plt.plot(fpr, tpr, color='red', label='ROC curve (area = %0.2f)' % roc_auc)\n",
    "plt.plot([0, 1], [0, 1], color='navy', linestyle='--')\n",
    "plt.xlabel('False Positive Rate')\n",
    "plt.ylabel('True Positive Rate')\n",
    "plt.title('Receiver operating characteristic')\n",
    "plt.legend(loc=\"lower right\")\n",
    "plt.show"
   ]
  },
  {
   "cell_type": "code",
   "execution_count": null,
   "id": "0922f900",
   "metadata": {},
   "outputs": [],
   "source": [
    "# AUPR graph\n",
    "\n",
    "plt.plot(fpr, tpr, color='red', label='PR curve (area = %0.2f)' % area)\n",
    "plt.plot([0, 1], [0, 1], color='navy', linestyle='--')\n",
    "plt.xlabel('False Positive Rate')\n",
    "plt.ylabel('True Positive Rate')\n",
    "plt.title('Receiver operating characteristic')\n",
    "plt.legend(loc=\"lower right\")\n",
    "plt.show"
   ]
  },
  {
   "cell_type": "markdown",
   "id": "6c2ce611",
   "metadata": {},
   "source": [
    "# Naive Bayes"
   ]
  },
  {
   "cell_type": "code",
   "execution_count": 106,
   "id": "8a366708",
   "metadata": {},
   "outputs": [
    {
     "data": {
      "text/html": [
       "<style>#sk-container-id-7 {color: black;background-color: white;}#sk-container-id-7 pre{padding: 0;}#sk-container-id-7 div.sk-toggleable {background-color: white;}#sk-container-id-7 label.sk-toggleable__label {cursor: pointer;display: block;width: 100%;margin-bottom: 0;padding: 0.3em;box-sizing: border-box;text-align: center;}#sk-container-id-7 label.sk-toggleable__label-arrow:before {content: \"▸\";float: left;margin-right: 0.25em;color: #696969;}#sk-container-id-7 label.sk-toggleable__label-arrow:hover:before {color: black;}#sk-container-id-7 div.sk-estimator:hover label.sk-toggleable__label-arrow:before {color: black;}#sk-container-id-7 div.sk-toggleable__content {max-height: 0;max-width: 0;overflow: hidden;text-align: left;background-color: #f0f8ff;}#sk-container-id-7 div.sk-toggleable__content pre {margin: 0.2em;color: black;border-radius: 0.25em;background-color: #f0f8ff;}#sk-container-id-7 input.sk-toggleable__control:checked~div.sk-toggleable__content {max-height: 200px;max-width: 100%;overflow: auto;}#sk-container-id-7 input.sk-toggleable__control:checked~label.sk-toggleable__label-arrow:before {content: \"▾\";}#sk-container-id-7 div.sk-estimator input.sk-toggleable__control:checked~label.sk-toggleable__label {background-color: #d4ebff;}#sk-container-id-7 div.sk-label input.sk-toggleable__control:checked~label.sk-toggleable__label {background-color: #d4ebff;}#sk-container-id-7 input.sk-hidden--visually {border: 0;clip: rect(1px 1px 1px 1px);clip: rect(1px, 1px, 1px, 1px);height: 1px;margin: -1px;overflow: hidden;padding: 0;position: absolute;width: 1px;}#sk-container-id-7 div.sk-estimator {font-family: monospace;background-color: #f0f8ff;border: 1px dotted black;border-radius: 0.25em;box-sizing: border-box;margin-bottom: 0.5em;}#sk-container-id-7 div.sk-estimator:hover {background-color: #d4ebff;}#sk-container-id-7 div.sk-parallel-item::after {content: \"\";width: 100%;border-bottom: 1px solid gray;flex-grow: 1;}#sk-container-id-7 div.sk-label:hover label.sk-toggleable__label {background-color: #d4ebff;}#sk-container-id-7 div.sk-serial::before {content: \"\";position: absolute;border-left: 1px solid gray;box-sizing: border-box;top: 0;bottom: 0;left: 50%;z-index: 0;}#sk-container-id-7 div.sk-serial {display: flex;flex-direction: column;align-items: center;background-color: white;padding-right: 0.2em;padding-left: 0.2em;position: relative;}#sk-container-id-7 div.sk-item {position: relative;z-index: 1;}#sk-container-id-7 div.sk-parallel {display: flex;align-items: stretch;justify-content: center;background-color: white;position: relative;}#sk-container-id-7 div.sk-item::before, #sk-container-id-7 div.sk-parallel-item::before {content: \"\";position: absolute;border-left: 1px solid gray;box-sizing: border-box;top: 0;bottom: 0;left: 50%;z-index: -1;}#sk-container-id-7 div.sk-parallel-item {display: flex;flex-direction: column;z-index: 1;position: relative;background-color: white;}#sk-container-id-7 div.sk-parallel-item:first-child::after {align-self: flex-end;width: 50%;}#sk-container-id-7 div.sk-parallel-item:last-child::after {align-self: flex-start;width: 50%;}#sk-container-id-7 div.sk-parallel-item:only-child::after {width: 0;}#sk-container-id-7 div.sk-dashed-wrapped {border: 1px dashed gray;margin: 0 0.4em 0.5em 0.4em;box-sizing: border-box;padding-bottom: 0.4em;background-color: white;}#sk-container-id-7 div.sk-label label {font-family: monospace;font-weight: bold;display: inline-block;line-height: 1.2em;}#sk-container-id-7 div.sk-label-container {text-align: center;}#sk-container-id-7 div.sk-container {/* jupyter's `normalize.less` sets `[hidden] { display: none; }` but bootstrap.min.css set `[hidden] { display: none !important; }` so we also need the `!important` here to be able to override the default hidden behavior on the sphinx rendered scikit-learn.org. See: https://github.com/scikit-learn/scikit-learn/issues/21755 */display: inline-block !important;position: relative;}#sk-container-id-7 div.sk-text-repr-fallback {display: none;}</style><div id=\"sk-container-id-7\" class=\"sk-top-container\"><div class=\"sk-text-repr-fallback\"><pre>GaussianNB()</pre><b>In a Jupyter environment, please rerun this cell to show the HTML representation or trust the notebook. <br />On GitHub, the HTML representation is unable to render, please try loading this page with nbviewer.org.</b></div><div class=\"sk-container\" hidden><div class=\"sk-item\"><div class=\"sk-estimator sk-toggleable\"><input class=\"sk-toggleable__control sk-hidden--visually\" id=\"sk-estimator-id-7\" type=\"checkbox\" checked><label for=\"sk-estimator-id-7\" class=\"sk-toggleable__label sk-toggleable__label-arrow\">GaussianNB</label><div class=\"sk-toggleable__content\"><pre>GaussianNB()</pre></div></div></div></div></div>"
      ],
      "text/plain": [
       "GaussianNB()"
      ]
     },
     "execution_count": 106,
     "metadata": {},
     "output_type": "execute_result"
    }
   ],
   "source": [
    "#using Naive Bayesian \n",
    "\n",
    "from sklearn.naive_bayes import GaussianNB\n",
    "gnb = GaussianNB()\n",
    "gnb.fit(X_train, Y_train)"
   ]
  },
  {
   "cell_type": "code",
   "execution_count": 107,
   "id": "b8beb371",
   "metadata": {},
   "outputs": [
    {
     "name": "stdout",
     "output_type": "stream",
     "text": [
      "0.7848837209302325\n",
      "0.8372093023255814\n"
     ]
    }
   ],
   "source": [
    "model_score2 = gnb.score(X_test, Y_test)\n",
    "model_score1 = gnb.score(X_train, Y_train)\n",
    "print(model_score1)\n",
    "print(model_score2)"
   ]
  },
  {
   "cell_type": "code",
   "execution_count": 108,
   "id": "c63a9e87",
   "metadata": {},
   "outputs": [
    {
     "data": {
      "text/plain": [
       "array([0.71428571, 0.74285714, 0.82857143, 0.77142857, 0.73529412,\n",
       "       0.82352941, 0.73529412, 0.76470588, 0.85294118, 0.73529412])"
      ]
     },
     "execution_count": 108,
     "metadata": {},
     "output_type": "execute_result"
    }
   ],
   "source": [
    "from sklearn.model_selection import cross_val_score\n",
    "from sklearn.model_selection import KFold\n",
    "from sklearn.metrics import accuracy_score\n",
    "\n",
    "k = 10\n",
    "kf = KFold(n_splits=k, random_state=None)\n",
    "result = cross_val_score(gnb , X_train, Y_train, cv = kf)\n",
    "result\n"
   ]
  },
  {
   "cell_type": "code",
   "execution_count": 109,
   "id": "5177ef4c",
   "metadata": {},
   "outputs": [
    {
     "name": "stdout",
     "output_type": "stream",
     "text": [
      "Avg accuracy: 0.7704201680672268\n"
     ]
    }
   ],
   "source": [
    "print(\"Avg accuracy: {}\".format(result.mean()))"
   ]
  },
  {
   "cell_type": "code",
   "execution_count": 110,
   "id": "0b6d9a3c",
   "metadata": {},
   "outputs": [
    {
     "data": {
      "text/plain": [
       "array([0.77777778, 1.        , 0.88888889, 0.55555556, 1.        ,\n",
       "       1.        , 0.75      , 0.5       , 0.875     , 0.875     ])"
      ]
     },
     "execution_count": 110,
     "metadata": {},
     "output_type": "execute_result"
    }
   ],
   "source": [
    "from sklearn.model_selection import cross_val_score\n",
    "from sklearn.model_selection import KFold\n",
    "from sklearn.metrics import accuracy_score\n",
    "\n",
    "k = 10\n",
    "kf = KFold(n_splits=k, random_state=None)\n",
    "result = cross_val_score(gnb , X_test, Y_test, cv = kf)\n",
    "result"
   ]
  },
  {
   "cell_type": "code",
   "execution_count": 111,
   "id": "85474405",
   "metadata": {},
   "outputs": [
    {
     "name": "stdout",
     "output_type": "stream",
     "text": [
      "Avg accuracy: 0.8222222222222222\n"
     ]
    }
   ],
   "source": [
    "print(\"Avg accuracy: {}\".format(result.mean()))"
   ]
  },
  {
   "cell_type": "code",
   "execution_count": 112,
   "id": "54180e2d",
   "metadata": {},
   "outputs": [
    {
     "data": {
      "image/png": "[encoded data removed]",
      "text/plain": [
       "<Figure size 432x288 with 2 Axes>"
      ]
     },
     "metadata": {
      "needs_background": "light"
     },
     "output_type": "display_data"
    }
   ],
   "source": [
    "# make predictions\n",
    "predicted = gnb.predict(X_test)\n",
    "from sklearn.metrics import accuracy_score, confusion_matrix\n",
    "confusion_matrix = metrics.confusion_matrix(Y_test,predicted)\n",
    "\n",
    "cm_display = metrics.ConfusionMatrixDisplay(confusion_matrix = confusion_matrix, display_labels = [False, True])\n",
    "cm_display.plot()\n",
    "plt.show()"
   ]
  },
  {
   "cell_type": "code",
   "execution_count": 113,
   "id": "542e2920",
   "metadata": {},
   "outputs": [
    {
     "name": "stdout",
     "output_type": "stream",
     "text": [
      "Sensitivity:  0.972972972972973\n",
      "specificity:  0.7346938775510204\n",
      "PPV:  0.7346938775510204\n",
      "NPV:  0.972972972972973\n"
     ]
    }
   ],
   "source": [
    "TN = confusion_matrix[0][0]\n",
    "FN = confusion_matrix[1][0] \n",
    "TP = confusion_matrix[1][1]\n",
    "FP = confusion_matrix[0][1]\n",
    "\n",
    "sensitivity = (TP / float(TP + FN))\n",
    "specificity = (TN / float(TN + FP))\n",
    "ppv = (TP / float(TP + FP))\n",
    "npv = (TN / float(TN + FN))\n",
    "\n",
    "print(\"Sensitivity: \",sensitivity)\n",
    "print(\"specificity: \",specificity)\n",
    "print(\"PPV: \",ppv)\n",
    "print(\"NPV: \",npv)"
   ]
  },
  {
   "cell_type": "code",
   "execution_count": 114,
   "id": "045fd029",
   "metadata": {},
   "outputs": [
    {
     "name": "stdout",
     "output_type": "stream",
     "text": [
      "AUROC: 0.9241588527302813\n",
      "AUPR: 0.8609742333125869\n"
     ]
    }
   ],
   "source": [
    "# AUROC and AUPR value\n",
    "y_predictProb = gnb.predict_proba(X_test)\n",
    "\n",
    "fpr, tpr, thresholds = roc_curve(Y_test, y_predictProb[::,1])\n",
    "roc_auc = auc(fpr, tpr)\n",
    "\n",
    "precision, recall, thresholds = precision_recall_curve(Y_test, y_predictProb[::,1])\n",
    "area = auc(recall, precision)\n",
    "\n",
    "print(\"AUROC:\",roc_auc)\n",
    "print(\"AUPR:\",area)"
   ]
  },
  {
   "cell_type": "code",
   "execution_count": 115,
   "id": "e019e8bb",
   "metadata": {},
   "outputs": [
    {
     "data": {
      "text/plain": [
       "<function matplotlib.pyplot.show(close=None, block=None)>"
      ]
     },
     "execution_count": 115,
     "metadata": {},
     "output_type": "execute_result"
    },
    {
     "data": {
      "image/png": "[encoded data removed]",
      "text/plain": [
       "<Figure size 432x288 with 1 Axes>"
      ]
     },
     "metadata": {
      "needs_background": "light"
     },
     "output_type": "display_data"
    }
   ],
   "source": [
    "# AURoc graph\n",
    "\n",
    "plt.plot(fpr, tpr, color='red', label='ROC curve (area = %0.2f)' % roc_auc)\n",
    "plt.plot([0, 1], [0, 1], color='navy', linestyle='--')\n",
    "plt.xlabel('False Positive Rate')\n",
    "plt.ylabel('True Positive Rate')\n",
    "plt.title('Receiver operating characteristic')\n",
    "plt.legend(loc=\"lower right\")\n",
    "plt.show"
   ]
  },
  {
   "cell_type": "code",
   "execution_count": 116,
   "id": "816129bc",
   "metadata": {},
   "outputs": [
    {
     "data": {
      "text/plain": [
       "<function matplotlib.pyplot.show(close=None, block=None)>"
      ]
     },
     "execution_count": 116,
     "metadata": {},
     "output_type": "execute_result"
    },
    {
     "data": {
      "image/png": "[encoded data removed]",
      "text/plain": [
       "<Figure size 432x288 with 1 Axes>"
      ]
     },
     "metadata": {
      "needs_background": "light"
     },
     "output_type": "display_data"
    }
   ],
   "source": [
    "# AUPR graph\n",
    "\n",
    "plt.plot(fpr, tpr, color='red', label='PR curve (area = %0.2f)' % area)\n",
    "plt.plot([0, 1], [0, 1], color='navy', linestyle='--')\n",
    "plt.xlabel('False Positive Rate')\n",
    "plt.ylabel('True Positive Rate')\n",
    "plt.title('Receiver operating characteristic')\n",
    "plt.legend(loc=\"lower right\")\n",
    "plt.show"
   ]
  },
  {
   "cell_type": "code",
   "execution_count": null,
   "id": "d0d877b1",
   "metadata": {},
   "outputs": [],
   "source": []
  }
 ],
 "metadata": {
  "kernelspec": {
   "display_name": "Python 3 (ipykernel)",
   "language": "python",
   "name": "python3"
  },
  "language_info": {
   "codemirror_mode": {
    "name": "ipython",
    "version": 3
   },
   "file_extension": ".py",
   "mimetype": "text/x-python",
   "name": "python",
   "nbconvert_exporter": "python",
   "pygments_lexer": "ipython3",
   "version": "3.9.7"
  }
 },
 "nbformat": 4,
 "nbformat_minor": 5
}
